{
 "cells": [
  {
   "cell_type": "markdown",
   "metadata": {},
   "source": [
    "<img src=\"http://imgur.com/1ZcRyrc.png\" style=\"float: left; margin: 20px; height: 55px\">\n",
    "\n",
    "# Project 1: Standardized Test Analysis"
   ]
  },
  {
   "cell_type": "markdown",
   "metadata": {},
   "source": [
    "--- \n",
    "# Part 1\n",
    "\n",
    "Part 1 requires knowledge of basic Python.\n",
    "\n",
    "---"
   ]
  },
  {
   "cell_type": "markdown",
   "metadata": {},
   "source": [
    "## Problem Statement\n",
    "I am a Diversity, Equity & Inclusion Analysist for College Board. I am presenting to the board members of College Board who make decisions for the SAT test as it applies to the state of Colorado."
   ]
  },
  {
   "cell_type": "markdown",
   "metadata": {},
   "source": [
    "Our SAT test is criticized as being a tool that creates racial disparity. This critique stems from the idea that our exam gives an unfair advantage to students who attend white-majority schools. \n",
    "\n",
    "This project aims to identify, at the Colorado state level, the differences in participation rates and test scores of students by their race. \n",
    "\n",
    "From this information, CollegeBoard can improve funding decisions to ensure that our test is BIPOC inclusive. Achieving this inclusitivity will allow us to achieve our mission of providing a fair measurement of success for all students."
   ]
  },
  {
   "cell_type": "markdown",
   "metadata": {},
   "source": [
    "### Contents:\n",
    "- [Background](#Background)\n",
    "- [Data Import & Cleaning](#Data-Import-and-Cleaning)\n",
    "- [Exploratory Data Analysis](#Exploratory-Data-Analysis)\n",
    "- [Data Visualization](#Visualize-the-Data)\n",
    "- [Conclusions and Recommendations](#Conclusions-and-Recommendations)"
   ]
  },
  {
   "cell_type": "markdown",
   "metadata": {},
   "source": [
    "## Background"
   ]
  },
  {
   "cell_type": "markdown",
   "metadata": {},
   "source": [
    "The SAT and ACT are standardized tests that many colleges and universities in the United States require for their admissions process. This score is used along with other materials such as grade point average (GPA) and essay responses to determine whether or not a potential student will be accepted to the university.\n",
    "\n",
    "The SAT has two sections of the test: Evidence-Based Reading and Writing and Math ([*source*](https://www.princetonreview.com/college/sat-sections)). The ACT has 4 sections: English, Mathematics, Reading, and Science, with an additional optional writing section ([*source*](https://www.act.org/content/act/en/products-and-services/the-act/scores/understanding-your-scores.html)). They have different score ranges, which you can read more about on their websites or additional outside sources (a quick Google search will help you understand the scores for each test):\n",
    "* [SAT](https://collegereadiness.collegeboard.org/sat)\n",
    "* [ACT](https://www.act.org/content/act/en.html)\n",
    "\n",
    "Standardized tests have long been a controversial topic for students, administrators, and legislators. Since the 1940's, an increasing number of colleges have been using scores from sudents' performances on tests like the SAT and the ACT as a measure for college readiness and aptitude ([*source*](https://www.minotdailynews.com/news/local-news/2017/04/a-brief-history-of-the-sat-and-act/)). Supporters of these tests argue that these scores can be used as an objective measure to determine college admittance. Opponents of these tests claim that these tests are not accurate measures of students potential or ability and serve as an inequitable barrier to entry. Lately, more and more schools are opting to drop the SAT/ACT requirement for their Fall 2021 applications ([*read more about this here*](https://www.cnn.com/2020/04/14/us/coronavirus-colleges-sat-act-test-trnd/index.html))."
   ]
  },
  {
   "cell_type": "markdown",
   "metadata": {},
   "source": [
    " "
   ]
  },
  {
   "cell_type": "markdown",
   "metadata": {},
   "source": [
    "### Choose your Data\n",
    "\n",
    "There are 10 datasets included in the [`data`](./data/) folder for this project. You are required to pick **at least two** of these to complete your analysis. Feel free to use more than two if you would like, or add other relevant datasets you find online.\n",
    "\n",
    "* [`act_2017.csv`](./data/act_2017.csv): 2017 ACT Scores by State\n",
    "* [`act_2018.csv`](./data/act_2018.csv): 2018 ACT Scores by State\n",
    "* [`act_2019.csv`](./data/act_2019.csv): 2019 ACT Scores by State\n",
    "* [`act_2019_ca.csv`](./data/act_2019_ca.csv): 2019 ACT Scores in California by School\n",
    "* [`sat_2017.csv`](./data/sat_2017.csv): 2017 SAT Scores by State\n",
    "* [`sat_2018.csv`](./data/sat_2018.csv): 2018 SAT Scores by State\n",
    "* [`sat_2019.csv`](./data/sat_2019.csv): 2019 SAT Scores by State\n",
    "* [`sat_2019_by_intended_college_major.csv`](./data/sat_2019_by_intended_college_major.csv): 2019 SAT Scores by Intended College Major\n",
    "* [`sat_2019_ca.csv`](./data/sat_2019_ca.csv): 2019 SAT Scores in California by School\n",
    "* [`sat_act_by_college.csv`](./data/sat_act_by_college.csv): Ranges of Accepted ACT & SAT Student Scores by Colleges"
   ]
  },
  {
   "cell_type": "markdown",
   "metadata": {},
   "source": [
    "**To-Do:** Write a brief description of the contents for each dataset that you choose.*"
   ]
  },
  {
   "cell_type": "markdown",
   "metadata": {},
   "source": [
    "* [`sat_2019_by_race.csv`](./data/2019_P_SAT_Scores_Race.csv): 2019 SAT Scores by Race in Colorado\n",
    "\n",
    "* [`sat_2019_co.csv`](./data/2019_P_SAT_CO_District_Results.csv): 2019 SAT Scores in Colorado by District\n",
    "\n",
    "* [`sat_2019.csv`](./data/sat_2019.csv): 2019 SAT Scores by State\n"
   ]
  },
  {
   "cell_type": "markdown",
   "metadata": {},
   "source": [
    "### Outside Research"
   ]
  },
  {
   "cell_type": "markdown",
   "metadata": {},
   "source": [
    "Based on your problem statement and your chosen datasets, spend some time doing outside research on state policies or additional information that might be relevant. Summarize your findings below. If you bring in any outside tables or charts, make sure you are explicit about having borrowed them. If you quote any text, make sure that it renders as being quoted. **Make sure that you cite your sources.**"
   ]
  },
  {
   "cell_type": "markdown",
   "metadata": {},
   "source": [
    "* See citations below in code\n",
    "* Made googlesheet to compare data and make visuals\n",
    "* https://docs.google.com/spreadsheets/d/1rTV9-tfds-KjeiuCCoi4AmkcuR5jZ-3HpovERC7UFmk/edit?usp=sharing"
   ]
  },
  {
   "cell_type": "markdown",
   "metadata": {},
   "source": [
    "### Coding Challenges\n",
    "\n",
    "1. Manually calculate mean:\n",
    "\n",
    "    Write a function that takes in values and returns the mean of the values. Create a list of numbers that you test on your function to check to make sure your function works!\n",
    "    \n",
    "    *Note*: Do not use any mean methods built-in to any Python libraries to do this! This should be done without importing any additional libraries."
   ]
  },
  {
   "cell_type": "code",
   "execution_count": 1,
   "metadata": {},
   "outputs": [],
   "source": [
    "def mean(lst):\n",
    "    return sum(lst) / len(lst)"
   ]
  },
  {
   "cell_type": "markdown",
   "metadata": {},
   "source": [
    "2. Manually calculate standard deviation:\n",
    "\n",
    "    The formula for standard deviation is below:\n",
    "\n",
    "    $$\\sigma = \\sqrt{\\frac{1}{n}\\sum_{i=1}^n(x_i - \\mu)^2}$$\n",
    "\n",
    "    Where $x_i$ represents each value in the dataset, $\\mu$ represents the mean of all values in the dataset and $n$ represents the number of values in the dataset.\n",
    "\n",
    "    Write a function that takes in values and returns the standard deviation of the values using the formula above. Hint: use the function you wrote above to calculate the mean! Use the list of numbers you created above to test on your function.\n",
    "    \n",
    "    *Note*: Do not use any standard deviation methods built-in to any Python libraries to do this! This should be done without importing any additional libraries."
   ]
  },
  {
   "cell_type": "code",
   "execution_count": 2,
   "metadata": {},
   "outputs": [],
   "source": [
    "def variance(lst, sample=True):\n",
    "    total = 0\n",
    "    mean_ = mean(lst)\n",
    "\n",
    "    for value in lst:\n",
    "        total += (value - mean_)**2\n",
    "\n",
    "    if sample:\n",
    "        return total / (len(lst) - 1)\n",
    "    else:\n",
    "        return total / len(lst)\n",
    "    \n",
    "def stdev(lst, sample=True):\n",
    "    return variance(lst, sample)**(1/2)"
   ]
  },
  {
   "cell_type": "markdown",
   "metadata": {},
   "source": [
    "3. Data cleaning function:\n",
    "    \n",
    "    Write a function that takes in a string that is a number and a percent symbol (ex. '50%', '30.5%', etc.) and converts this to a float that is the decimal approximation of the percent. For example, inputting '50%' in your function should return 0.5, '30.5%' should return 0.305, etc. Make sure to test your function to make sure it works!\n",
    "\n",
    "You will use these functions later on in the project!"
   ]
  },
  {
   "cell_type": "code",
   "execution_count": 3,
   "metadata": {},
   "outputs": [
    {
     "data": {
      "text/plain": [
       "0.305"
      ]
     },
     "execution_count": 3,
     "metadata": {},
     "output_type": "execute_result"
    }
   ],
   "source": [
    "def percentage_conversion(string_num):\n",
    "    float_num = float( string_num.replace(\"%\" , \"\") ) / 100\n",
    "    return float_num\n",
    "\n",
    "percentage_conversion(\"30.5%\")"
   ]
  },
  {
   "cell_type": "markdown",
   "metadata": {},
   "source": [
    "--- \n",
    "# Part 2\n",
    "\n",
    "Part 2 requires knowledge of Pandas, EDA, data cleaning, and data visualization.\n",
    "\n",
    "---"
   ]
  },
  {
   "cell_type": "markdown",
   "metadata": {},
   "source": [
    "*All libraries used should be added here*"
   ]
  },
  {
   "cell_type": "code",
   "execution_count": 4,
   "metadata": {},
   "outputs": [],
   "source": [
    "import pandas as pd\n",
    "import numpy as np\n",
    "import matplotlib.pyplot as plt\n",
    "import seaborn as sns\n",
    "import math\n",
    "import statistics\n",
    "import scipy.stats"
   ]
  },
  {
   "cell_type": "markdown",
   "metadata": {},
   "source": [
    "Resources:\n",
    "#https://www.cde.state.co.us/assessment/sat-psat-data"
   ]
  },
  {
   "cell_type": "markdown",
   "metadata": {},
   "source": [
    "## Data Import and Cleaning"
   ]
  },
  {
   "cell_type": "markdown",
   "metadata": {},
   "source": [
    "### Data Import & Cleaning\n",
    "\n",
    "Import the datasets that you selected for this project and go through the following steps at a minimum. You are welcome to do further cleaning as you feel necessary:\n",
    "1. Display the data: print the first 5 rows of each dataframe to your Jupyter notebook.\n",
    "2. Check for missing values.\n",
    "3. Check for any obvious issues with the observations (keep in mind the minimum & maximum possible values for each test/subtest).\n",
    "4. Fix any errors you identified in steps 2-3.\n",
    "5. Display the data types of each feature.\n",
    "6. Fix any incorrect data types found in step 5.\n",
    "    - Fix any individual values preventing other columns from being the appropriate type.\n",
    "    - If your dataset has a column of percents (ex. '50%', '30.5%', etc.), use the function you wrote in Part 1 (coding challenges, number 3) to convert this to floats! *Hint*: use `.map()` or `.apply()`.\n",
    "7. Rename Columns.\n",
    "    - Column names should be all lowercase.\n",
    "    - Column names should not contain spaces (underscores will suffice--this allows for using the `df.column_name` method to access columns in addition to `df['column_name']`).\n",
    "    - Column names should be unique and informative.\n",
    "8. Drop unnecessary rows (if needed).\n",
    "9. Merge dataframes that can be merged.\n",
    "10. Perform any additional cleaning that you feel is necessary.\n",
    "11. Save your cleaned and merged dataframes as csv files."
   ]
  },
  {
   "cell_type": "code",
   "execution_count": 5,
   "metadata": {},
   "outputs": [],
   "source": [
    "by_state_scores = pd.read_csv(r'/Users/taracelesta/DSI/project_1/data/sat_2019.csv') \n",
    "co_school_scores = pd.read_csv(r'/Users/taracelesta/DSI/project_1/data/2019_P_SAT_CO_District_Results.csv')\n",
    "by_race_co_scores = pd.read_csv(r'/Users/taracelesta/DSI/project_1/data/2019_P_SAT_Scores_Race.csv', header = 9)"
   ]
  },
  {
   "cell_type": "markdown",
   "metadata": {},
   "source": [
    "# SAT Scores By State"
   ]
  },
  {
   "cell_type": "markdown",
   "metadata": {},
   "source": [
    "#1.Display the data: print the first 5 rows of each dataframe to your Jupyter notebook."
   ]
  },
  {
   "cell_type": "code",
   "execution_count": 6,
   "metadata": {},
   "outputs": [
    {
     "data": {
      "text/html": [
       "<div>\n",
       "<style scoped>\n",
       "    .dataframe tbody tr th:only-of-type {\n",
       "        vertical-align: middle;\n",
       "    }\n",
       "\n",
       "    .dataframe tbody tr th {\n",
       "        vertical-align: top;\n",
       "    }\n",
       "\n",
       "    .dataframe thead th {\n",
       "        text-align: right;\n",
       "    }\n",
       "</style>\n",
       "<table border=\"1\" class=\"dataframe\">\n",
       "  <thead>\n",
       "    <tr style=\"text-align: right;\">\n",
       "      <th></th>\n",
       "      <th>State</th>\n",
       "      <th>Participation</th>\n",
       "      <th>ERW</th>\n",
       "      <th>Math</th>\n",
       "      <th>Total</th>\n",
       "    </tr>\n",
       "  </thead>\n",
       "  <tbody>\n",
       "    <tr>\n",
       "      <th>0</th>\n",
       "      <td>Alabama</td>\n",
       "      <td>5%</td>\n",
       "      <td>593</td>\n",
       "      <td>572</td>\n",
       "      <td>1165</td>\n",
       "    </tr>\n",
       "    <tr>\n",
       "      <th>1</th>\n",
       "      <td>Alaska</td>\n",
       "      <td>38%</td>\n",
       "      <td>547</td>\n",
       "      <td>533</td>\n",
       "      <td>1080</td>\n",
       "    </tr>\n",
       "    <tr>\n",
       "      <th>2</th>\n",
       "      <td>Arizona</td>\n",
       "      <td>30%</td>\n",
       "      <td>563</td>\n",
       "      <td>553</td>\n",
       "      <td>1116</td>\n",
       "    </tr>\n",
       "    <tr>\n",
       "      <th>3</th>\n",
       "      <td>Arkansas</td>\n",
       "      <td>3%</td>\n",
       "      <td>614</td>\n",
       "      <td>594</td>\n",
       "      <td>1208</td>\n",
       "    </tr>\n",
       "    <tr>\n",
       "      <th>4</th>\n",
       "      <td>California</td>\n",
       "      <td>53%</td>\n",
       "      <td>531</td>\n",
       "      <td>524</td>\n",
       "      <td>1055</td>\n",
       "    </tr>\n",
       "  </tbody>\n",
       "</table>\n",
       "</div>"
      ],
      "text/plain": [
       "        State Participation  ERW  Math  Total\n",
       "0     Alabama            5%  593   572   1165\n",
       "1      Alaska           38%  547   533   1080\n",
       "2     Arizona           30%  563   553   1116\n",
       "3    Arkansas            3%  614   594   1208\n",
       "4  California           53%  531   524   1055"
      ]
     },
     "execution_count": 6,
     "metadata": {},
     "output_type": "execute_result"
    }
   ],
   "source": [
    "by_state_scores.head()"
   ]
  },
  {
   "cell_type": "markdown",
   "metadata": {},
   "source": [
    " "
   ]
  },
  {
   "cell_type": "markdown",
   "metadata": {},
   "source": [
    "#2. Check for missing values."
   ]
  },
  {
   "cell_type": "code",
   "execution_count": 7,
   "metadata": {},
   "outputs": [
    {
     "data": {
      "text/plain": [
       "State            0\n",
       "Participation    0\n",
       "ERW              0\n",
       "Math             0\n",
       "Total            0\n",
       "dtype: int64"
      ]
     },
     "execution_count": 7,
     "metadata": {},
     "output_type": "execute_result"
    }
   ],
   "source": [
    "by_state_scores.isnull().sum()"
   ]
  },
  {
   "cell_type": "markdown",
   "metadata": {},
   "source": [
    " "
   ]
  },
  {
   "cell_type": "markdown",
   "metadata": {},
   "source": [
    "#3. Check for any obvious issues with the observations (keep in mind the minimum & maximum possible values for each test/subtest)."
   ]
  },
  {
   "cell_type": "markdown",
   "metadata": {},
   "source": [
    "Issues:\n",
    "* Object data type that need to be int64/float \n",
    "* Colums that we dont need\n",
    "\n",
    "The highest possible score one can earn on the SAT is 1600 points. The lowest possible score is a 400. Each section (Evidence-Based Reading and Writing and Math) has a max score of 800 and a low score of 200.\n",
    "\n",
    "\n",
    "Source:\n",
    "  https://blog.prepscholar.com/whats-the-highest-possible-sat-score#:~:text=The%20highest%20possible%20score%20you,a%20composite%20score%20of%201600.      https://blog.prepscholar.com/whats-the-lowest-sat-score-possible-how-many-get-it#:~:text=On%20the%20Redesigned%20SAT%2C%20the,%2C%20Math%2C%20and%20Writing%20sections."
   ]
  },
  {
   "cell_type": "code",
   "execution_count": 8,
   "metadata": {},
   "outputs": [
    {
     "name": "stdout",
     "output_type": "stream",
     "text": [
      "<class 'pandas.core.frame.DataFrame'>\n",
      "RangeIndex: 51 entries, 0 to 50\n",
      "Data columns (total 5 columns):\n",
      " #   Column         Non-Null Count  Dtype \n",
      "---  ------         --------------  ----- \n",
      " 0   State          51 non-null     object\n",
      " 1   Participation  51 non-null     object\n",
      " 2   ERW            51 non-null     int64 \n",
      " 3   Math           51 non-null     int64 \n",
      " 4   Total          51 non-null     int64 \n",
      "dtypes: int64(3), object(2)\n",
      "memory usage: 2.1+ KB\n"
     ]
    }
   ],
   "source": [
    "by_state_scores.info()"
   ]
  },
  {
   "cell_type": "code",
   "execution_count": 9,
   "metadata": {},
   "outputs": [
    {
     "data": {
      "text/html": [
       "<div>\n",
       "<style scoped>\n",
       "    .dataframe tbody tr th:only-of-type {\n",
       "        vertical-align: middle;\n",
       "    }\n",
       "\n",
       "    .dataframe tbody tr th {\n",
       "        vertical-align: top;\n",
       "    }\n",
       "\n",
       "    .dataframe thead th {\n",
       "        text-align: right;\n",
       "    }\n",
       "</style>\n",
       "<table border=\"1\" class=\"dataframe\">\n",
       "  <thead>\n",
       "    <tr style=\"text-align: right;\">\n",
       "      <th></th>\n",
       "      <th>ERW</th>\n",
       "      <th>Math</th>\n",
       "      <th>Total</th>\n",
       "    </tr>\n",
       "  </thead>\n",
       "  <tbody>\n",
       "    <tr>\n",
       "      <th>count</th>\n",
       "      <td>51.000000</td>\n",
       "      <td>51.000000</td>\n",
       "      <td>51.000000</td>\n",
       "    </tr>\n",
       "    <tr>\n",
       "      <th>mean</th>\n",
       "      <td>569.117647</td>\n",
       "      <td>556.882353</td>\n",
       "      <td>1126.098039</td>\n",
       "    </tr>\n",
       "    <tr>\n",
       "      <th>std</th>\n",
       "      <td>45.666901</td>\n",
       "      <td>47.121395</td>\n",
       "      <td>92.494812</td>\n",
       "    </tr>\n",
       "    <tr>\n",
       "      <th>min</th>\n",
       "      <td>482.000000</td>\n",
       "      <td>468.000000</td>\n",
       "      <td>950.000000</td>\n",
       "    </tr>\n",
       "    <tr>\n",
       "      <th>25%</th>\n",
       "      <td>533.500000</td>\n",
       "      <td>523.500000</td>\n",
       "      <td>1055.500000</td>\n",
       "    </tr>\n",
       "    <tr>\n",
       "      <th>50%</th>\n",
       "      <td>559.000000</td>\n",
       "      <td>548.000000</td>\n",
       "      <td>1107.000000</td>\n",
       "    </tr>\n",
       "    <tr>\n",
       "      <th>75%</th>\n",
       "      <td>613.000000</td>\n",
       "      <td>599.000000</td>\n",
       "      <td>1212.000000</td>\n",
       "    </tr>\n",
       "    <tr>\n",
       "      <th>max</th>\n",
       "      <td>644.000000</td>\n",
       "      <td>651.000000</td>\n",
       "      <td>1295.000000</td>\n",
       "    </tr>\n",
       "  </tbody>\n",
       "</table>\n",
       "</div>"
      ],
      "text/plain": [
       "              ERW        Math        Total\n",
       "count   51.000000   51.000000    51.000000\n",
       "mean   569.117647  556.882353  1126.098039\n",
       "std     45.666901   47.121395    92.494812\n",
       "min    482.000000  468.000000   950.000000\n",
       "25%    533.500000  523.500000  1055.500000\n",
       "50%    559.000000  548.000000  1107.000000\n",
       "75%    613.000000  599.000000  1212.000000\n",
       "max    644.000000  651.000000  1295.000000"
      ]
     },
     "execution_count": 9,
     "metadata": {},
     "output_type": "execute_result"
    }
   ],
   "source": [
    "by_state_scores.describe()"
   ]
  },
  {
   "cell_type": "code",
   "execution_count": 10,
   "metadata": {},
   "outputs": [
    {
     "data": {
      "text/html": [
       "<div>\n",
       "<style scoped>\n",
       "    .dataframe tbody tr th:only-of-type {\n",
       "        vertical-align: middle;\n",
       "    }\n",
       "\n",
       "    .dataframe tbody tr th {\n",
       "        vertical-align: top;\n",
       "    }\n",
       "\n",
       "    .dataframe thead th {\n",
       "        text-align: right;\n",
       "    }\n",
       "</style>\n",
       "<table border=\"1\" class=\"dataframe\">\n",
       "  <thead>\n",
       "    <tr style=\"text-align: right;\">\n",
       "      <th></th>\n",
       "      <th>State</th>\n",
       "      <th>Participation</th>\n",
       "    </tr>\n",
       "  </thead>\n",
       "  <tbody>\n",
       "    <tr>\n",
       "      <th>count</th>\n",
       "      <td>51</td>\n",
       "      <td>51</td>\n",
       "    </tr>\n",
       "    <tr>\n",
       "      <th>unique</th>\n",
       "      <td>51</td>\n",
       "      <td>34</td>\n",
       "    </tr>\n",
       "    <tr>\n",
       "      <th>top</th>\n",
       "      <td>Arizona</td>\n",
       "      <td>3%</td>\n",
       "    </tr>\n",
       "    <tr>\n",
       "      <th>freq</th>\n",
       "      <td>1</td>\n",
       "      <td>8</td>\n",
       "    </tr>\n",
       "  </tbody>\n",
       "</table>\n",
       "</div>"
      ],
      "text/plain": [
       "          State Participation\n",
       "count        51            51\n",
       "unique       51            34\n",
       "top     Arizona            3%\n",
       "freq          1             8"
      ]
     },
     "execution_count": 10,
     "metadata": {},
     "output_type": "execute_result"
    }
   ],
   "source": [
    "by_state_scores.describe(include=np.object)"
   ]
  },
  {
   "cell_type": "markdown",
   "metadata": {},
   "source": [
    " "
   ]
  },
  {
   "cell_type": "markdown",
   "metadata": {},
   "source": [
    "#4. Fix any errors you identified in steps 2-3."
   ]
  },
  {
   "cell_type": "markdown",
   "metadata": {},
   "source": [
    "Will be fixed below"
   ]
  },
  {
   "cell_type": "markdown",
   "metadata": {},
   "source": [
    " "
   ]
  },
  {
   "cell_type": "markdown",
   "metadata": {},
   "source": [
    "#5. Display the data types of each feature."
   ]
  },
  {
   "cell_type": "code",
   "execution_count": 11,
   "metadata": {},
   "outputs": [
    {
     "data": {
      "text/plain": [
       "State            object\n",
       "Participation    object\n",
       "ERW               int64\n",
       "Math              int64\n",
       "Total             int64\n",
       "dtype: object"
      ]
     },
     "execution_count": 11,
     "metadata": {},
     "output_type": "execute_result"
    }
   ],
   "source": [
    "by_state_scores.dtypes"
   ]
  },
  {
   "cell_type": "markdown",
   "metadata": {},
   "source": [
    " "
   ]
  },
  {
   "cell_type": "markdown",
   "metadata": {},
   "source": [
    "#6. Fix any incorrect data types found in step 5.\n",
    "Fix any individual values preventing other columns from being the appropriate type.\n",
    "If your dataset has a column of percents (ex. '50%', '30.5%', etc.), use the function you wrote in Part 1 (coding challenges, number 3) to convert this to floats! \n",
    "Hint: use .map() or .apply()."
   ]
  },
  {
   "cell_type": "code",
   "execution_count": 12,
   "metadata": {},
   "outputs": [],
   "source": [
    "by_state_scores['Participation'] = by_state_scores['Participation'].map(percentage_conversion)"
   ]
  },
  {
   "cell_type": "markdown",
   "metadata": {},
   "source": [
    " "
   ]
  },
  {
   "cell_type": "markdown",
   "metadata": {},
   "source": [
    "#7. Rename Columns.\n",
    "Column names should be all lowercase.\n",
    "Column names should not contain spaces (underscores will suffice--this allows for using the df.column_name method to access columns in addition to df['column_name']). Column names should be unique and informative"
   ]
  },
  {
   "cell_type": "code",
   "execution_count": 13,
   "metadata": {},
   "outputs": [],
   "source": [
    "by_state_scores.columns = [col.lower().replace(' ', '_') for col in by_state_scores.columns]"
   ]
  },
  {
   "cell_type": "code",
   "execution_count": 14,
   "metadata": {},
   "outputs": [],
   "source": [
    "by_state_scores.rename(columns={\n",
    "    'participation' : 'participation_rate',\n",
    "    'erw' : 'evidence_based_reading_writing'\n",
    "}, inplace = True)"
   ]
  },
  {
   "cell_type": "markdown",
   "metadata": {},
   "source": [
    " "
   ]
  },
  {
   "cell_type": "markdown",
   "metadata": {},
   "source": [
    "#8. Drop unnecessary rows (if needed)."
   ]
  },
  {
   "cell_type": "markdown",
   "metadata": {},
   "source": [
    "none needed"
   ]
  },
  {
   "cell_type": "markdown",
   "metadata": {},
   "source": [
    " "
   ]
  },
  {
   "cell_type": "markdown",
   "metadata": {},
   "source": [
    "# SAT Scores in Colorado By District Data"
   ]
  },
  {
   "cell_type": "markdown",
   "metadata": {},
   "source": [
    "#1.Display the data: print the first 5 rows of each dataframe to your Jupyter notebook."
   ]
  },
  {
   "cell_type": "code",
   "execution_count": 15,
   "metadata": {},
   "outputs": [
    {
     "data": {
      "text/html": [
       "<div>\n",
       "<style scoped>\n",
       "    .dataframe tbody tr th:only-of-type {\n",
       "        vertical-align: middle;\n",
       "    }\n",
       "\n",
       "    .dataframe tbody tr th {\n",
       "        vertical-align: top;\n",
       "    }\n",
       "\n",
       "    .dataframe thead th {\n",
       "        text-align: right;\n",
       "    }\n",
       "</style>\n",
       "<table border=\"1\" class=\"dataframe\">\n",
       "  <thead>\n",
       "    <tr style=\"text-align: right;\">\n",
       "      <th></th>\n",
       "      <th>Level</th>\n",
       "      <th>District Code</th>\n",
       "      <th>District Name</th>\n",
       "      <th>School Name</th>\n",
       "      <th>Test</th>\n",
       "      <th>Grade</th>\n",
       "      <th>Number of Total Records</th>\n",
       "      <th>Number of Valid Scores</th>\n",
       "      <th>Number of No Scores</th>\n",
       "      <th>Participation Rate</th>\n",
       "      <th>...</th>\n",
       "      <th>Evidence-Based Reading &amp; Writing Mean Score</th>\n",
       "      <th>Evidence-Based Reading &amp; Writing Standard Deviation</th>\n",
       "      <th>Mathematics Mean Score</th>\n",
       "      <th>Mathematics Standard Deviation</th>\n",
       "      <th>Total Score Mean Score.1</th>\n",
       "      <th>Evidence-Based Reading &amp; Writing Mean Score.1</th>\n",
       "      <th>Mathematics Mean Score.1</th>\n",
       "      <th>Total Score Mean Score.2</th>\n",
       "      <th>Evidence-Based Reading &amp; Writing Mean Score.2</th>\n",
       "      <th>Mathematics Mean Score.2</th>\n",
       "    </tr>\n",
       "  </thead>\n",
       "  <tbody>\n",
       "    <tr>\n",
       "      <th>0</th>\n",
       "      <td>STATE</td>\n",
       "      <td>0.0</td>\n",
       "      <td>All Districts</td>\n",
       "      <td>All Schools</td>\n",
       "      <td>PSAT</td>\n",
       "      <td>9.0</td>\n",
       "      <td>67,471</td>\n",
       "      <td>63,042</td>\n",
       "      <td>4,429</td>\n",
       "      <td>93.4</td>\n",
       "      <td>...</td>\n",
       "      <td>457</td>\n",
       "      <td>93</td>\n",
       "      <td>448</td>\n",
       "      <td>95</td>\n",
       "      <td>902</td>\n",
       "      <td>454</td>\n",
       "      <td>448</td>\n",
       "      <td>4</td>\n",
       "      <td>3</td>\n",
       "      <td>0</td>\n",
       "    </tr>\n",
       "    <tr>\n",
       "      <th>1</th>\n",
       "      <td>STATE</td>\n",
       "      <td>0.0</td>\n",
       "      <td>All Districts</td>\n",
       "      <td>All Schools</td>\n",
       "      <td>PSAT</td>\n",
       "      <td>10.0</td>\n",
       "      <td>65,767</td>\n",
       "      <td>60,722</td>\n",
       "      <td>5,045</td>\n",
       "      <td>92.3</td>\n",
       "      <td>...</td>\n",
       "      <td>476</td>\n",
       "      <td>100</td>\n",
       "      <td>462</td>\n",
       "      <td>94</td>\n",
       "      <td>944</td>\n",
       "      <td>479</td>\n",
       "      <td>465</td>\n",
       "      <td>-6</td>\n",
       "      <td>-3</td>\n",
       "      <td>-3</td>\n",
       "    </tr>\n",
       "    <tr>\n",
       "      <th>2</th>\n",
       "      <td>STATE</td>\n",
       "      <td>0.0</td>\n",
       "      <td>All Districts</td>\n",
       "      <td>All Schools</td>\n",
       "      <td>SAT</td>\n",
       "      <td>11.0</td>\n",
       "      <td>62,586</td>\n",
       "      <td>57,973</td>\n",
       "      <td>4,613</td>\n",
       "      <td>92.6</td>\n",
       "      <td>...</td>\n",
       "      <td>505</td>\n",
       "      <td>103</td>\n",
       "      <td>496</td>\n",
       "      <td>110</td>\n",
       "      <td>1014</td>\n",
       "      <td>513</td>\n",
       "      <td>501</td>\n",
       "      <td>-13</td>\n",
       "      <td>-8</td>\n",
       "      <td>-5</td>\n",
       "    </tr>\n",
       "    <tr>\n",
       "      <th>3</th>\n",
       "      <td>DISTRICT</td>\n",
       "      <td>10.0</td>\n",
       "      <td>MAPLETON 1</td>\n",
       "      <td>All Schools</td>\n",
       "      <td>PSAT</td>\n",
       "      <td>9.0</td>\n",
       "      <td>846</td>\n",
       "      <td>677</td>\n",
       "      <td>169</td>\n",
       "      <td>80.0</td>\n",
       "      <td>...</td>\n",
       "      <td>416</td>\n",
       "      <td>78</td>\n",
       "      <td>397</td>\n",
       "      <td>74</td>\n",
       "      <td>823</td>\n",
       "      <td>418</td>\n",
       "      <td>405</td>\n",
       "      <td>-10</td>\n",
       "      <td>-2</td>\n",
       "      <td>-8</td>\n",
       "    </tr>\n",
       "    <tr>\n",
       "      <th>4</th>\n",
       "      <td>DISTRICT</td>\n",
       "      <td>10.0</td>\n",
       "      <td>MAPLETON 1</td>\n",
       "      <td>All Schools</td>\n",
       "      <td>PSAT</td>\n",
       "      <td>10.0</td>\n",
       "      <td>727</td>\n",
       "      <td>600</td>\n",
       "      <td>127</td>\n",
       "      <td>82.5</td>\n",
       "      <td>...</td>\n",
       "      <td>434</td>\n",
       "      <td>85</td>\n",
       "      <td>414</td>\n",
       "      <td>69</td>\n",
       "      <td>865</td>\n",
       "      <td>443</td>\n",
       "      <td>422</td>\n",
       "      <td>-17</td>\n",
       "      <td>-9</td>\n",
       "      <td>-8</td>\n",
       "    </tr>\n",
       "  </tbody>\n",
       "</table>\n",
       "<p>5 rows × 22 columns</p>\n",
       "</div>"
      ],
      "text/plain": [
       "      Level  District Code  District Name  School Name  Test  Grade  \\\n",
       "0     STATE            0.0  All Districts  All Schools  PSAT    9.0   \n",
       "1     STATE            0.0  All Districts  All Schools  PSAT   10.0   \n",
       "2     STATE            0.0  All Districts  All Schools   SAT   11.0   \n",
       "3  DISTRICT           10.0     MAPLETON 1  All Schools  PSAT    9.0   \n",
       "4  DISTRICT           10.0     MAPLETON 1  All Schools  PSAT   10.0   \n",
       "\n",
       "  Number of Total Records Number of Valid Scores Number of No Scores  \\\n",
       "0                  67,471                 63,042               4,429   \n",
       "1                  65,767                 60,722               5,045   \n",
       "2                  62,586                 57,973               4,613   \n",
       "3                     846                    677                 169   \n",
       "4                     727                    600                 127   \n",
       "\n",
       "  Participation Rate  ... Evidence-Based Reading & Writing Mean Score  \\\n",
       "0               93.4  ...                                         457   \n",
       "1               92.3  ...                                         476   \n",
       "2               92.6  ...                                         505   \n",
       "3               80.0  ...                                         416   \n",
       "4               82.5  ...                                         434   \n",
       "\n",
       "  Evidence-Based Reading & Writing Standard Deviation Mathematics Mean Score  \\\n",
       "0                                                 93                     448   \n",
       "1                                                100                     462   \n",
       "2                                                103                     496   \n",
       "3                                                 78                     397   \n",
       "4                                                 85                     414   \n",
       "\n",
       "  Mathematics Standard Deviation Total Score Mean Score.1  \\\n",
       "0                             95                      902   \n",
       "1                             94                      944   \n",
       "2                            110                     1014   \n",
       "3                             74                      823   \n",
       "4                             69                      865   \n",
       "\n",
       "  Evidence-Based Reading & Writing Mean Score.1 Mathematics Mean Score.1  \\\n",
       "0                                           454                      448   \n",
       "1                                           479                      465   \n",
       "2                                           513                      501   \n",
       "3                                           418                      405   \n",
       "4                                           443                      422   \n",
       "\n",
       "  Total Score Mean Score.2 Evidence-Based Reading & Writing Mean Score.2  \\\n",
       "0                        4                                             3   \n",
       "1                       -6                                            -3   \n",
       "2                      -13                                            -8   \n",
       "3                      -10                                            -2   \n",
       "4                      -17                                            -9   \n",
       "\n",
       "  Mathematics Mean Score.2  \n",
       "0                        0  \n",
       "1                       -3  \n",
       "2                       -5  \n",
       "3                       -8  \n",
       "4                       -8  \n",
       "\n",
       "[5 rows x 22 columns]"
      ]
     },
     "execution_count": 15,
     "metadata": {},
     "output_type": "execute_result"
    }
   ],
   "source": [
    "co_school_scores.head()"
   ]
  },
  {
   "cell_type": "markdown",
   "metadata": {},
   "source": [
    " "
   ]
  },
  {
   "cell_type": "markdown",
   "metadata": {},
   "source": [
    "#2. Check for missing values."
   ]
  },
  {
   "cell_type": "code",
   "execution_count": 16,
   "metadata": {},
   "outputs": [
    {
     "data": {
      "text/plain": [
       "Level                                                   1\n",
       "District Code                                           1\n",
       "District Name                                           1\n",
       "School Name                                             1\n",
       "Test                                                    1\n",
       "Grade                                                   1\n",
       "Number of Total Records                                 1\n",
       "Number of Valid Scores                                  1\n",
       "Number of No Scores                                     1\n",
       "Participation Rate                                      1\n",
       "Total Score Mean Score                                  1\n",
       "Total Score Standard Deviation                          1\n",
       "Evidence-Based Reading & Writing Mean Score             1\n",
       "Evidence-Based Reading & Writing Standard Deviation     1\n",
       "Mathematics Mean Score                                  1\n",
       "Mathematics Standard Deviation                          1\n",
       "Total Score Mean Score.1                               50\n",
       "Evidence-Based Reading & Writing Mean Score.1          50\n",
       "Mathematics Mean Score.1                               50\n",
       "Total Score Mean Score.2                               50\n",
       "Evidence-Based Reading & Writing Mean Score.2          50\n",
       "Mathematics Mean Score.2                               50\n",
       "dtype: int64"
      ]
     },
     "execution_count": 16,
     "metadata": {},
     "output_type": "execute_result"
    }
   ],
   "source": [
    "co_school_scores.isnull().sum()"
   ]
  },
  {
   "cell_type": "markdown",
   "metadata": {},
   "source": [
    "#3. Check for any obvious issues with the observations (keep in mind the minimum & maximum possible values for each test/subtest)."
   ]
  },
  {
   "cell_type": "markdown",
   "metadata": {},
   "source": [
    "Issues:\n",
    "* Object data type that need to be int64/float\n",
    "* Missing values\n",
    "* \"<\" vales \n",
    "* Colums that we dont need"
   ]
  },
  {
   "cell_type": "code",
   "execution_count": 17,
   "metadata": {},
   "outputs": [
    {
     "name": "stdout",
     "output_type": "stream",
     "text": [
      "<class 'pandas.core.frame.DataFrame'>\n",
      "RangeIndex: 2017 entries, 0 to 2016\n",
      "Data columns (total 22 columns):\n",
      " #   Column                                               Non-Null Count  Dtype  \n",
      "---  ------                                               --------------  -----  \n",
      " 0   Level                                                2016 non-null   object \n",
      " 1   District Code                                        2016 non-null   float64\n",
      " 2   District Name                                        2016 non-null   object \n",
      " 3   School Name                                          2016 non-null   object \n",
      " 4   Test                                                 2016 non-null   object \n",
      " 5   Grade                                                2016 non-null   float64\n",
      " 6   Number of Total Records                              2016 non-null   object \n",
      " 7   Number of Valid Scores                               2016 non-null   object \n",
      " 8   Number of No Scores                                  2016 non-null   object \n",
      " 9   Participation Rate                                   2016 non-null   object \n",
      " 10  Total Score Mean Score                               2016 non-null   object \n",
      " 11  Total Score Standard Deviation                       2016 non-null   object \n",
      " 12  Evidence-Based Reading & Writing Mean Score          2016 non-null   object \n",
      " 13  Evidence-Based Reading & Writing Standard Deviation  2016 non-null   object \n",
      " 14  Mathematics Mean Score                               2016 non-null   object \n",
      " 15  Mathematics Standard Deviation                       2016 non-null   object \n",
      " 16  Total Score Mean Score.1                             1967 non-null   object \n",
      " 17  Evidence-Based Reading & Writing Mean Score.1        1967 non-null   object \n",
      " 18  Mathematics Mean Score.1                             1967 non-null   object \n",
      " 19  Total Score Mean Score.2                             1967 non-null   object \n",
      " 20  Evidence-Based Reading & Writing Mean Score.2        1967 non-null   object \n",
      " 21  Mathematics Mean Score.2                             1967 non-null   object \n",
      "dtypes: float64(2), object(20)\n",
      "memory usage: 346.8+ KB\n"
     ]
    }
   ],
   "source": [
    "co_school_scores.info()"
   ]
  },
  {
   "cell_type": "code",
   "execution_count": 18,
   "metadata": {},
   "outputs": [
    {
     "data": {
      "text/html": [
       "<div>\n",
       "<style scoped>\n",
       "    .dataframe tbody tr th:only-of-type {\n",
       "        vertical-align: middle;\n",
       "    }\n",
       "\n",
       "    .dataframe tbody tr th {\n",
       "        vertical-align: top;\n",
       "    }\n",
       "\n",
       "    .dataframe thead th {\n",
       "        text-align: right;\n",
       "    }\n",
       "</style>\n",
       "<table border=\"1\" class=\"dataframe\">\n",
       "  <thead>\n",
       "    <tr style=\"text-align: right;\">\n",
       "      <th></th>\n",
       "      <th>District Code</th>\n",
       "      <th>Grade</th>\n",
       "    </tr>\n",
       "  </thead>\n",
       "  <tbody>\n",
       "    <tr>\n",
       "      <th>count</th>\n",
       "      <td>2016.000000</td>\n",
       "      <td>2016.000000</td>\n",
       "    </tr>\n",
       "    <tr>\n",
       "      <th>mean</th>\n",
       "      <td>1703.148313</td>\n",
       "      <td>10.003968</td>\n",
       "    </tr>\n",
       "    <tr>\n",
       "      <th>std</th>\n",
       "      <td>1690.408811</td>\n",
       "      <td>0.814864</td>\n",
       "    </tr>\n",
       "    <tr>\n",
       "      <th>min</th>\n",
       "      <td>0.000000</td>\n",
       "      <td>9.000000</td>\n",
       "    </tr>\n",
       "    <tr>\n",
       "      <th>25%</th>\n",
       "      <td>880.000000</td>\n",
       "      <td>9.000000</td>\n",
       "    </tr>\n",
       "    <tr>\n",
       "      <th>50%</th>\n",
       "      <td>1330.000000</td>\n",
       "      <td>10.000000</td>\n",
       "    </tr>\n",
       "    <tr>\n",
       "      <th>75%</th>\n",
       "      <td>2530.000000</td>\n",
       "      <td>11.000000</td>\n",
       "    </tr>\n",
       "    <tr>\n",
       "      <th>max</th>\n",
       "      <td>9175.000000</td>\n",
       "      <td>11.000000</td>\n",
       "    </tr>\n",
       "  </tbody>\n",
       "</table>\n",
       "</div>"
      ],
      "text/plain": [
       "       District Code        Grade\n",
       "count    2016.000000  2016.000000\n",
       "mean     1703.148313    10.003968\n",
       "std      1690.408811     0.814864\n",
       "min         0.000000     9.000000\n",
       "25%       880.000000     9.000000\n",
       "50%      1330.000000    10.000000\n",
       "75%      2530.000000    11.000000\n",
       "max      9175.000000    11.000000"
      ]
     },
     "execution_count": 18,
     "metadata": {},
     "output_type": "execute_result"
    }
   ],
   "source": [
    "co_school_scores.describe()"
   ]
  },
  {
   "cell_type": "code",
   "execution_count": 19,
   "metadata": {},
   "outputs": [
    {
     "data": {
      "text/html": [
       "<div>\n",
       "<style scoped>\n",
       "    .dataframe tbody tr th:only-of-type {\n",
       "        vertical-align: middle;\n",
       "    }\n",
       "\n",
       "    .dataframe tbody tr th {\n",
       "        vertical-align: top;\n",
       "    }\n",
       "\n",
       "    .dataframe thead th {\n",
       "        text-align: right;\n",
       "    }\n",
       "</style>\n",
       "<table border=\"1\" class=\"dataframe\">\n",
       "  <thead>\n",
       "    <tr style=\"text-align: right;\">\n",
       "      <th></th>\n",
       "      <th>Level</th>\n",
       "      <th>District Name</th>\n",
       "      <th>School Name</th>\n",
       "      <th>Test</th>\n",
       "      <th>Number of Total Records</th>\n",
       "      <th>Number of Valid Scores</th>\n",
       "      <th>Number of No Scores</th>\n",
       "      <th>Participation Rate</th>\n",
       "      <th>Total Score Mean Score</th>\n",
       "      <th>Total Score Standard Deviation</th>\n",
       "      <th>Evidence-Based Reading &amp; Writing Mean Score</th>\n",
       "      <th>Evidence-Based Reading &amp; Writing Standard Deviation</th>\n",
       "      <th>Mathematics Mean Score</th>\n",
       "      <th>Mathematics Standard Deviation</th>\n",
       "      <th>Total Score Mean Score.1</th>\n",
       "      <th>Evidence-Based Reading &amp; Writing Mean Score.1</th>\n",
       "      <th>Mathematics Mean Score.1</th>\n",
       "      <th>Total Score Mean Score.2</th>\n",
       "      <th>Evidence-Based Reading &amp; Writing Mean Score.2</th>\n",
       "      <th>Mathematics Mean Score.2</th>\n",
       "    </tr>\n",
       "  </thead>\n",
       "  <tbody>\n",
       "    <tr>\n",
       "      <th>count</th>\n",
       "      <td>2016</td>\n",
       "      <td>2016</td>\n",
       "      <td>2016</td>\n",
       "      <td>2016</td>\n",
       "      <td>2016</td>\n",
       "      <td>2016</td>\n",
       "      <td>2016</td>\n",
       "      <td>2016</td>\n",
       "      <td>2016</td>\n",
       "      <td>2016</td>\n",
       "      <td>2016</td>\n",
       "      <td>2016</td>\n",
       "      <td>2016</td>\n",
       "      <td>2016</td>\n",
       "      <td>1967</td>\n",
       "      <td>1967</td>\n",
       "      <td>1967</td>\n",
       "      <td>1967</td>\n",
       "      <td>1967</td>\n",
       "      <td>1967</td>\n",
       "    </tr>\n",
       "    <tr>\n",
       "      <th>unique</th>\n",
       "      <td>3</td>\n",
       "      <td>186</td>\n",
       "      <td>495</td>\n",
       "      <td>2</td>\n",
       "      <td>504</td>\n",
       "      <td>506</td>\n",
       "      <td>137</td>\n",
       "      <td>254</td>\n",
       "      <td>405</td>\n",
       "      <td>147</td>\n",
       "      <td>237</td>\n",
       "      <td>81</td>\n",
       "      <td>240</td>\n",
       "      <td>90</td>\n",
       "      <td>393</td>\n",
       "      <td>242</td>\n",
       "      <td>236</td>\n",
       "      <td>170</td>\n",
       "      <td>105</td>\n",
       "      <td>102</td>\n",
       "    </tr>\n",
       "    <tr>\n",
       "      <th>top</th>\n",
       "      <td>SCHOOL</td>\n",
       "      <td>DENVER COUNTY 1</td>\n",
       "      <td>All Schools</td>\n",
       "      <td>PSAT</td>\n",
       "      <td>- -</td>\n",
       "      <td>&lt; 16</td>\n",
       "      <td>- -</td>\n",
       "      <td>- -</td>\n",
       "      <td>- -</td>\n",
       "      <td>- -</td>\n",
       "      <td>- -</td>\n",
       "      <td>- -</td>\n",
       "      <td>- -</td>\n",
       "      <td>- -</td>\n",
       "      <td>- -</td>\n",
       "      <td>- -</td>\n",
       "      <td>- -</td>\n",
       "      <td>- -</td>\n",
       "      <td>- -</td>\n",
       "      <td>- -</td>\n",
       "    </tr>\n",
       "    <tr>\n",
       "      <th>freq</th>\n",
       "      <td>1463</td>\n",
       "      <td>177</td>\n",
       "      <td>553</td>\n",
       "      <td>1343</td>\n",
       "      <td>485</td>\n",
       "      <td>485</td>\n",
       "      <td>485</td>\n",
       "      <td>485</td>\n",
       "      <td>497</td>\n",
       "      <td>497</td>\n",
       "      <td>497</td>\n",
       "      <td>497</td>\n",
       "      <td>497</td>\n",
       "      <td>497</td>\n",
       "      <td>462</td>\n",
       "      <td>462</td>\n",
       "      <td>462</td>\n",
       "      <td>561</td>\n",
       "      <td>561</td>\n",
       "      <td>561</td>\n",
       "    </tr>\n",
       "  </tbody>\n",
       "</table>\n",
       "</div>"
      ],
      "text/plain": [
       "         Level    District Name  School Name  Test Number of Total Records  \\\n",
       "count     2016             2016         2016  2016                    2016   \n",
       "unique       3              186          495     2                     504   \n",
       "top     SCHOOL  DENVER COUNTY 1  All Schools  PSAT                     - -   \n",
       "freq      1463              177          553  1343                     485   \n",
       "\n",
       "       Number of Valid Scores Number of No Scores Participation Rate  \\\n",
       "count                    2016                2016               2016   \n",
       "unique                    506                 137                254   \n",
       "top                      < 16                 - -                - -   \n",
       "freq                      485                 485                485   \n",
       "\n",
       "       Total Score Mean Score Total Score Standard Deviation  \\\n",
       "count                    2016                           2016   \n",
       "unique                    405                            147   \n",
       "top                       - -                            - -   \n",
       "freq                      497                            497   \n",
       "\n",
       "       Evidence-Based Reading & Writing Mean Score  \\\n",
       "count                                         2016   \n",
       "unique                                         237   \n",
       "top                                            - -   \n",
       "freq                                           497   \n",
       "\n",
       "       Evidence-Based Reading & Writing Standard Deviation  \\\n",
       "count                                                2016    \n",
       "unique                                                 81    \n",
       "top                                                   - -    \n",
       "freq                                                  497    \n",
       "\n",
       "       Mathematics Mean Score Mathematics Standard Deviation  \\\n",
       "count                    2016                           2016   \n",
       "unique                    240                             90   \n",
       "top                       - -                            - -   \n",
       "freq                      497                            497   \n",
       "\n",
       "       Total Score Mean Score.1 Evidence-Based Reading & Writing Mean Score.1  \\\n",
       "count                      1967                                          1967   \n",
       "unique                      393                                           242   \n",
       "top                         - -                                           - -   \n",
       "freq                        462                                           462   \n",
       "\n",
       "       Mathematics Mean Score.1 Total Score Mean Score.2  \\\n",
       "count                      1967                     1967   \n",
       "unique                      236                      170   \n",
       "top                         - -                      - -   \n",
       "freq                        462                      561   \n",
       "\n",
       "       Evidence-Based Reading & Writing Mean Score.2 Mathematics Mean Score.2  \n",
       "count                                           1967                     1967  \n",
       "unique                                           105                      102  \n",
       "top                                              - -                      - -  \n",
       "freq                                             561                      561  "
      ]
     },
     "execution_count": 19,
     "metadata": {},
     "output_type": "execute_result"
    }
   ],
   "source": [
    "co_school_scores.describe(include=np.object)"
   ]
  },
  {
   "cell_type": "markdown",
   "metadata": {},
   "source": [
    " "
   ]
  },
  {
   "cell_type": "markdown",
   "metadata": {},
   "source": [
    "#4. Fix any errors you identified in steps 2-3."
   ]
  },
  {
   "cell_type": "markdown",
   "metadata": {},
   "source": [
    "The data type and column name problems will be fixed in below questions."
   ]
  },
  {
   "cell_type": "markdown",
   "metadata": {},
   "source": [
    " "
   ]
  },
  {
   "cell_type": "markdown",
   "metadata": {},
   "source": [
    "#5. Display the data types of each feature."
   ]
  },
  {
   "cell_type": "code",
   "execution_count": 20,
   "metadata": {},
   "outputs": [
    {
     "data": {
      "text/plain": [
       "Level                                                   object\n",
       "District Code                                          float64\n",
       "District Name                                           object\n",
       "School Name                                             object\n",
       "Test                                                    object\n",
       "Grade                                                  float64\n",
       "Number of Total Records                                 object\n",
       "Number of Valid Scores                                  object\n",
       "Number of No Scores                                     object\n",
       "Participation Rate                                      object\n",
       "Total Score Mean Score                                  object\n",
       "Total Score Standard Deviation                          object\n",
       "Evidence-Based Reading & Writing Mean Score             object\n",
       "Evidence-Based Reading & Writing Standard Deviation     object\n",
       "Mathematics Mean Score                                  object\n",
       "Mathematics Standard Deviation                          object\n",
       "Total Score Mean Score.1                                object\n",
       "Evidence-Based Reading & Writing Mean Score.1           object\n",
       "Mathematics Mean Score.1                                object\n",
       "Total Score Mean Score.2                                object\n",
       "Evidence-Based Reading & Writing Mean Score.2           object\n",
       "Mathematics Mean Score.2                                object\n",
       "dtype: object"
      ]
     },
     "execution_count": 20,
     "metadata": {},
     "output_type": "execute_result"
    }
   ],
   "source": [
    "co_school_scores.dtypes"
   ]
  },
  {
   "cell_type": "markdown",
   "metadata": {},
   "source": [
    " "
   ]
  },
  {
   "cell_type": "markdown",
   "metadata": {},
   "source": [
    "#6. Fix any incorrect data types found in step 5.\n",
    "Fix any individual values preventing other columns from being the appropriate type.\n",
    "If your dataset has a column of percents (ex. '50%', '30.5%', etc.), use the function you wrote in Part 1 (coding challenges, number 3) to convert this to floats! Hint: use .map() or .apply().\n"
   ]
  },
  {
   "cell_type": "code",
   "execution_count": 21,
   "metadata": {},
   "outputs": [],
   "source": [
    "def object_to_float(string_num):\n",
    "    if string_num == '- -':\n",
    "        return np.nan     \n",
    "    elif type(string_num) == float:\n",
    "        pass\n",
    "    elif string_num in '< 16':\n",
    "        return np.nan  \n",
    "    else:\n",
    "        float_num =  float(string_num.replace(\",\" , \"\"))\n",
    "        return float_num\n",
    "    \n",
    "#https://pandas.pydata.org/pandas-docs/stable/user_guide/missing_data.html"
   ]
  },
  {
   "cell_type": "code",
   "execution_count": 22,
   "metadata": {},
   "outputs": [],
   "source": [
    "co_school_scores['Number of Total Records'] = co_school_scores['Number of Total Records'].map(object_to_float)"
   ]
  },
  {
   "cell_type": "code",
   "execution_count": 23,
   "metadata": {},
   "outputs": [],
   "source": [
    "co_school_scores['Number of Valid Scores'] = co_school_scores['Number of Valid Scores'].map(object_to_float)"
   ]
  },
  {
   "cell_type": "code",
   "execution_count": 24,
   "metadata": {},
   "outputs": [],
   "source": [
    "co_school_scores['Number of No Scores'] = co_school_scores['Number of No Scores'].map(object_to_float)"
   ]
  },
  {
   "cell_type": "code",
   "execution_count": 25,
   "metadata": {},
   "outputs": [],
   "source": [
    "co_school_scores['Participation Rate'] = co_school_scores['Participation Rate'].map(object_to_float)"
   ]
  },
  {
   "cell_type": "code",
   "execution_count": 26,
   "metadata": {},
   "outputs": [],
   "source": [
    "co_school_scores['Total Score Mean Score'] = co_school_scores['Total Score Mean Score'].map(object_to_float)"
   ]
  },
  {
   "cell_type": "code",
   "execution_count": 27,
   "metadata": {},
   "outputs": [],
   "source": [
    "co_school_scores['Evidence-Based Reading & Writing Mean Score'] = co_school_scores['Evidence-Based Reading & Writing Mean Score'].map(object_to_float)"
   ]
  },
  {
   "cell_type": "code",
   "execution_count": 28,
   "metadata": {},
   "outputs": [],
   "source": [
    "co_school_scores['Mathematics Mean Score'] = co_school_scores['Mathematics Mean Score'].map(object_to_float)"
   ]
  },
  {
   "cell_type": "markdown",
   "metadata": {},
   "source": [
    "\n"
   ]
  },
  {
   "cell_type": "markdown",
   "metadata": {},
   "source": [
    "#7. Rename Columns.\n",
    "Column names should be all lowercase.\n",
    "Column names should not contain spaces (underscores will suffice--this allows for using the df.column_name method to access columns in addition to df['column_name']). Column names should be unique and informative."
   ]
  },
  {
   "cell_type": "code",
   "execution_count": 29,
   "metadata": {},
   "outputs": [],
   "source": [
    "co_school_scores.columns = [col.lower().replace(' ', '_') for col in co_school_scores.columns]"
   ]
  },
  {
   "cell_type": "code",
   "execution_count": 30,
   "metadata": {},
   "outputs": [],
   "source": [
    "co_school_scores.rename(columns={\n",
    "    'number_of_total_records' : 'total_student_count',\n",
    "    'total_score_mean_score' : 'total',\n",
    "    'evidence-based_reading_&_writing_mean_score' : 'evidence_based_reading_writing',\n",
    "    'mathematics_mean_score' : 'math'\n",
    "}, inplace = True)"
   ]
  },
  {
   "cell_type": "markdown",
   "metadata": {},
   "source": [
    " "
   ]
  },
  {
   "cell_type": "markdown",
   "metadata": {},
   "source": [
    "#8. Drop unnecessary rows (if needed)."
   ]
  },
  {
   "cell_type": "code",
   "execution_count": 31,
   "metadata": {},
   "outputs": [],
   "source": [
    "#dropping columns\n",
    "co_school_scores.drop(columns = 'level', inplace=True)\n",
    "co_school_scores.drop(columns = 'district_code', inplace=True)\n",
    "co_school_scores.drop(columns = 'school_name', inplace=True)\n",
    "co_school_scores.drop(columns = 'grade', inplace=True)\n",
    "co_school_scores.drop(columns = 'number_of_valid_scores', inplace=True)\n",
    "co_school_scores.drop(columns = 'number_of_no_scores', inplace=True)\n",
    "co_school_scores.drop(columns = 'total_score_standard_deviation', inplace=True)\n",
    "co_school_scores.drop(columns = 'evidence-based_reading_&_writing_standard_deviation', inplace=True)\n",
    "co_school_scores.drop(columns = 'mathematics_standard_deviation', inplace=True)\n",
    "co_school_scores.drop(columns = 'total_score_mean_score.1', inplace=True)\n",
    "co_school_scores.drop(columns = 'evidence-based_reading_&_writing_mean_score.1', inplace=True)\n",
    "co_school_scores.drop(columns = 'mathematics_mean_score.1', inplace=True)\n",
    "co_school_scores.drop(columns = 'total_score_mean_score.2', inplace=True)\n",
    "co_school_scores.drop(columns = 'evidence-based_reading_&_writing_mean_score.2', inplace=True)\n",
    "co_school_scores.drop(columns = 'mathematics_mean_score.2', inplace=True)"
   ]
  },
  {
   "cell_type": "code",
   "execution_count": 32,
   "metadata": {},
   "outputs": [],
   "source": [
    "#dropping PSAT rows\n",
    "co_school_scores.drop(co_school_scores[co_school_scores['test'] == 'PSAT'].index, inplace = True) "
   ]
  },
  {
   "cell_type": "code",
   "execution_count": 33,
   "metadata": {},
   "outputs": [
    {
     "data": {
      "text/html": [
       "<div>\n",
       "<style scoped>\n",
       "    .dataframe tbody tr th:only-of-type {\n",
       "        vertical-align: middle;\n",
       "    }\n",
       "\n",
       "    .dataframe tbody tr th {\n",
       "        vertical-align: top;\n",
       "    }\n",
       "\n",
       "    .dataframe thead th {\n",
       "        text-align: right;\n",
       "    }\n",
       "</style>\n",
       "<table border=\"1\" class=\"dataframe\">\n",
       "  <thead>\n",
       "    <tr style=\"text-align: right;\">\n",
       "      <th></th>\n",
       "      <th>district_name</th>\n",
       "      <th>test</th>\n",
       "      <th>total_student_count</th>\n",
       "      <th>participation_rate</th>\n",
       "      <th>total</th>\n",
       "      <th>evidence_based_reading_writing</th>\n",
       "      <th>math</th>\n",
       "    </tr>\n",
       "  </thead>\n",
       "  <tbody>\n",
       "    <tr>\n",
       "      <th>2</th>\n",
       "      <td>All Districts</td>\n",
       "      <td>SAT</td>\n",
       "      <td>62586.0</td>\n",
       "      <td>92.6</td>\n",
       "      <td>1001.0</td>\n",
       "      <td>505.0</td>\n",
       "      <td>496.0</td>\n",
       "    </tr>\n",
       "    <tr>\n",
       "      <th>5</th>\n",
       "      <td>MAPLETON 1</td>\n",
       "      <td>SAT</td>\n",
       "      <td>727.0</td>\n",
       "      <td>85.0</td>\n",
       "      <td>915.0</td>\n",
       "      <td>470.0</td>\n",
       "      <td>445.0</td>\n",
       "    </tr>\n",
       "    <tr>\n",
       "      <th>8</th>\n",
       "      <td>ADAMS 12 FIVE STAR SCHOOLS</td>\n",
       "      <td>SAT</td>\n",
       "      <td>2975.0</td>\n",
       "      <td>91.9</td>\n",
       "      <td>978.0</td>\n",
       "      <td>491.0</td>\n",
       "      <td>487.0</td>\n",
       "    </tr>\n",
       "    <tr>\n",
       "      <th>11</th>\n",
       "      <td>ADAMS COUNTY 14</td>\n",
       "      <td>SAT</td>\n",
       "      <td>429.0</td>\n",
       "      <td>92.3</td>\n",
       "      <td>833.0</td>\n",
       "      <td>427.0</td>\n",
       "      <td>406.0</td>\n",
       "    </tr>\n",
       "    <tr>\n",
       "      <th>14</th>\n",
       "      <td>SCHOOL DISTRICT 27J</td>\n",
       "      <td>SAT</td>\n",
       "      <td>1138.0</td>\n",
       "      <td>93.6</td>\n",
       "      <td>936.0</td>\n",
       "      <td>473.0</td>\n",
       "      <td>463.0</td>\n",
       "    </tr>\n",
       "  </tbody>\n",
       "</table>\n",
       "</div>"
      ],
      "text/plain": [
       "                 district_name test  total_student_count  participation_rate  \\\n",
       "2                All Districts  SAT              62586.0                92.6   \n",
       "5                   MAPLETON 1  SAT                727.0                85.0   \n",
       "8   ADAMS 12 FIVE STAR SCHOOLS  SAT               2975.0                91.9   \n",
       "11             ADAMS COUNTY 14  SAT                429.0                92.3   \n",
       "14         SCHOOL DISTRICT 27J  SAT               1138.0                93.6   \n",
       "\n",
       "     total  evidence_based_reading_writing   math  \n",
       "2   1001.0                           505.0  496.0  \n",
       "5    915.0                           470.0  445.0  \n",
       "8    978.0                           491.0  487.0  \n",
       "11   833.0                           427.0  406.0  \n",
       "14   936.0                           473.0  463.0  "
      ]
     },
     "execution_count": 33,
     "metadata": {},
     "output_type": "execute_result"
    }
   ],
   "source": [
    "co_school_scores.head()"
   ]
  },
  {
   "cell_type": "code",
   "execution_count": 34,
   "metadata": {},
   "outputs": [],
   "source": [
    "#dropping aggerate data that was collected at the first row of datasets to make analysis easier\n",
    "co_school_scores.drop(co_school_scores[co_school_scores['district_name'] == 'All Districts'].index, inplace = True) "
   ]
  },
  {
   "cell_type": "code",
   "execution_count": 35,
   "metadata": {},
   "outputs": [],
   "source": [
    "#had to drop this colums after PSAT row was deleted\n",
    "co_school_scores.drop(columns = 'test', inplace=True)"
   ]
  },
  {
   "cell_type": "code",
   "execution_count": 36,
   "metadata": {},
   "outputs": [],
   "source": [
    "#dropping null values\n",
    "co_school_scores.dropna(inplace = True)"
   ]
  },
  {
   "cell_type": "code",
   "execution_count": 37,
   "metadata": {},
   "outputs": [
    {
     "data": {
      "text/html": [
       "<div>\n",
       "<style scoped>\n",
       "    .dataframe tbody tr th:only-of-type {\n",
       "        vertical-align: middle;\n",
       "    }\n",
       "\n",
       "    .dataframe tbody tr th {\n",
       "        vertical-align: top;\n",
       "    }\n",
       "\n",
       "    .dataframe thead th {\n",
       "        text-align: right;\n",
       "    }\n",
       "</style>\n",
       "<table border=\"1\" class=\"dataframe\">\n",
       "  <thead>\n",
       "    <tr style=\"text-align: right;\">\n",
       "      <th></th>\n",
       "      <th>district_name</th>\n",
       "      <th>total_student_count</th>\n",
       "      <th>participation_rate</th>\n",
       "      <th>total</th>\n",
       "      <th>evidence_based_reading_writing</th>\n",
       "      <th>math</th>\n",
       "    </tr>\n",
       "  </thead>\n",
       "  <tbody>\n",
       "    <tr>\n",
       "      <th>5</th>\n",
       "      <td>MAPLETON 1</td>\n",
       "      <td>727.0</td>\n",
       "      <td>85.0</td>\n",
       "      <td>915.0</td>\n",
       "      <td>470.0</td>\n",
       "      <td>445.0</td>\n",
       "    </tr>\n",
       "    <tr>\n",
       "      <th>8</th>\n",
       "      <td>ADAMS 12 FIVE STAR SCHOOLS</td>\n",
       "      <td>2975.0</td>\n",
       "      <td>91.9</td>\n",
       "      <td>978.0</td>\n",
       "      <td>491.0</td>\n",
       "      <td>487.0</td>\n",
       "    </tr>\n",
       "    <tr>\n",
       "      <th>11</th>\n",
       "      <td>ADAMS COUNTY 14</td>\n",
       "      <td>429.0</td>\n",
       "      <td>92.3</td>\n",
       "      <td>833.0</td>\n",
       "      <td>427.0</td>\n",
       "      <td>406.0</td>\n",
       "    </tr>\n",
       "    <tr>\n",
       "      <th>14</th>\n",
       "      <td>SCHOOL DISTRICT 27J</td>\n",
       "      <td>1138.0</td>\n",
       "      <td>93.6</td>\n",
       "      <td>936.0</td>\n",
       "      <td>473.0</td>\n",
       "      <td>463.0</td>\n",
       "    </tr>\n",
       "    <tr>\n",
       "      <th>17</th>\n",
       "      <td>BENNETT 29J</td>\n",
       "      <td>99.0</td>\n",
       "      <td>97.0</td>\n",
       "      <td>942.0</td>\n",
       "      <td>483.0</td>\n",
       "      <td>459.0</td>\n",
       "    </tr>\n",
       "  </tbody>\n",
       "</table>\n",
       "</div>"
      ],
      "text/plain": [
       "                 district_name  total_student_count  participation_rate  \\\n",
       "5                   MAPLETON 1                727.0                85.0   \n",
       "8   ADAMS 12 FIVE STAR SCHOOLS               2975.0                91.9   \n",
       "11             ADAMS COUNTY 14                429.0                92.3   \n",
       "14         SCHOOL DISTRICT 27J               1138.0                93.6   \n",
       "17                 BENNETT 29J                 99.0                97.0   \n",
       "\n",
       "    total  evidence_based_reading_writing   math  \n",
       "5   915.0                           470.0  445.0  \n",
       "8   978.0                           491.0  487.0  \n",
       "11  833.0                           427.0  406.0  \n",
       "14  936.0                           473.0  463.0  \n",
       "17  942.0                           483.0  459.0  "
      ]
     },
     "execution_count": 37,
     "metadata": {},
     "output_type": "execute_result"
    }
   ],
   "source": [
    "co_school_scores.head() "
   ]
  },
  {
   "cell_type": "markdown",
   "metadata": {},
   "source": [
    " "
   ]
  },
  {
   "cell_type": "markdown",
   "metadata": {},
   "source": [
    "# SAT Scores in Colorado By Race Data"
   ]
  },
  {
   "cell_type": "markdown",
   "metadata": {},
   "source": [
    "#1.Display the data: print the first 5 rows of each dataframe to your Jupyter notebook."
   ]
  },
  {
   "cell_type": "code",
   "execution_count": 38,
   "metadata": {},
   "outputs": [
    {
     "data": {
      "text/html": [
       "<div>\n",
       "<style scoped>\n",
       "    .dataframe tbody tr th:only-of-type {\n",
       "        vertical-align: middle;\n",
       "    }\n",
       "\n",
       "    .dataframe tbody tr th {\n",
       "        vertical-align: top;\n",
       "    }\n",
       "\n",
       "    .dataframe thead th {\n",
       "        text-align: right;\n",
       "    }\n",
       "</style>\n",
       "<table border=\"1\" class=\"dataframe\">\n",
       "  <thead>\n",
       "    <tr style=\"text-align: right;\">\n",
       "      <th></th>\n",
       "      <th>Level</th>\n",
       "      <th>District \\nCode</th>\n",
       "      <th>District Name</th>\n",
       "      <th>School \\nCode</th>\n",
       "      <th>School Name</th>\n",
       "      <th>Test</th>\n",
       "      <th>Grade</th>\n",
       "      <th>Race/Ethnicity</th>\n",
       "      <th>Number of \\nTotal Records</th>\n",
       "      <th>Number of \\nValid Scores</th>\n",
       "      <th>Number of \\nNo Scores</th>\n",
       "      <th>Participation \\nRate</th>\n",
       "      <th>Total Score \\nMean Score</th>\n",
       "      <th>Total Score \\nStandard Deviation</th>\n",
       "      <th>Evidence-Based \\nReading and Writing \\nMean Score</th>\n",
       "      <th>Evidence-Based \\nReading and Writing \\nStandard Deviation</th>\n",
       "      <th>Mathematics \\nMean Score</th>\n",
       "      <th>Mathematics \\nStandard Deviation</th>\n",
       "    </tr>\n",
       "  </thead>\n",
       "  <tbody>\n",
       "    <tr>\n",
       "      <th>0</th>\n",
       "      <td>STATE</td>\n",
       "      <td>0.0</td>\n",
       "      <td>All Districts</td>\n",
       "      <td>0.0</td>\n",
       "      <td>All Schools</td>\n",
       "      <td>PSAT</td>\n",
       "      <td>9.0</td>\n",
       "      <td>American Indian or Alaska Native</td>\n",
       "      <td>517</td>\n",
       "      <td>471</td>\n",
       "      <td>46</td>\n",
       "      <td>91.1</td>\n",
       "      <td>820</td>\n",
       "      <td>163</td>\n",
       "      <td>415</td>\n",
       "      <td>82</td>\n",
       "      <td>405</td>\n",
       "      <td>91</td>\n",
       "    </tr>\n",
       "    <tr>\n",
       "      <th>1</th>\n",
       "      <td>STATE</td>\n",
       "      <td>0.0</td>\n",
       "      <td>All Districts</td>\n",
       "      <td>0.0</td>\n",
       "      <td>All Schools</td>\n",
       "      <td>PSAT</td>\n",
       "      <td>9.0</td>\n",
       "      <td>Asian</td>\n",
       "      <td>2,220</td>\n",
       "      <td>2,153</td>\n",
       "      <td>67</td>\n",
       "      <td>97.0</td>\n",
       "      <td>995</td>\n",
       "      <td>188</td>\n",
       "      <td>493</td>\n",
       "      <td>98</td>\n",
       "      <td>502</td>\n",
       "      <td>101</td>\n",
       "    </tr>\n",
       "    <tr>\n",
       "      <th>2</th>\n",
       "      <td>STATE</td>\n",
       "      <td>0.0</td>\n",
       "      <td>All Districts</td>\n",
       "      <td>0.0</td>\n",
       "      <td>All Schools</td>\n",
       "      <td>PSAT</td>\n",
       "      <td>9.0</td>\n",
       "      <td>Black</td>\n",
       "      <td>2,942</td>\n",
       "      <td>2,689</td>\n",
       "      <td>253</td>\n",
       "      <td>91.4</td>\n",
       "      <td>817</td>\n",
       "      <td>160</td>\n",
       "      <td>413</td>\n",
       "      <td>83</td>\n",
       "      <td>404</td>\n",
       "      <td>88</td>\n",
       "    </tr>\n",
       "    <tr>\n",
       "      <th>3</th>\n",
       "      <td>STATE</td>\n",
       "      <td>0.0</td>\n",
       "      <td>All Districts</td>\n",
       "      <td>0.0</td>\n",
       "      <td>All Schools</td>\n",
       "      <td>PSAT</td>\n",
       "      <td>9.0</td>\n",
       "      <td>Hispanic</td>\n",
       "      <td>22,828</td>\n",
       "      <td>21,156</td>\n",
       "      <td>1672</td>\n",
       "      <td>92.7</td>\n",
       "      <td>822</td>\n",
       "      <td>152</td>\n",
       "      <td>415</td>\n",
       "      <td>79</td>\n",
       "      <td>407</td>\n",
       "      <td>84</td>\n",
       "    </tr>\n",
       "    <tr>\n",
       "      <th>4</th>\n",
       "      <td>STATE</td>\n",
       "      <td>0.0</td>\n",
       "      <td>All Districts</td>\n",
       "      <td>0.0</td>\n",
       "      <td>All Schools</td>\n",
       "      <td>PSAT</td>\n",
       "      <td>9.0</td>\n",
       "      <td>White</td>\n",
       "      <td>36,112</td>\n",
       "      <td>33,930</td>\n",
       "      <td>2182</td>\n",
       "      <td>94.0</td>\n",
       "      <td>959</td>\n",
       "      <td>169</td>\n",
       "      <td>485</td>\n",
       "      <td>91</td>\n",
       "      <td>475</td>\n",
       "      <td>89</td>\n",
       "    </tr>\n",
       "  </tbody>\n",
       "</table>\n",
       "</div>"
      ],
      "text/plain": [
       "   Level  District \\nCode  District Name  School \\nCode  School Name  Test  \\\n",
       "0  STATE              0.0  All Districts            0.0  All Schools  PSAT   \n",
       "1  STATE              0.0  All Districts            0.0  All Schools  PSAT   \n",
       "2  STATE              0.0  All Districts            0.0  All Schools  PSAT   \n",
       "3  STATE              0.0  All Districts            0.0  All Schools  PSAT   \n",
       "4  STATE              0.0  All Districts            0.0  All Schools  PSAT   \n",
       "\n",
       "   Grade                    Race/Ethnicity Number of \\nTotal Records   \\\n",
       "0    9.0  American Indian or Alaska Native                        517   \n",
       "1    9.0                             Asian                      2,220   \n",
       "2    9.0                             Black                      2,942   \n",
       "3    9.0                          Hispanic                     22,828   \n",
       "4    9.0                             White                     36,112   \n",
       "\n",
       "  Number of \\nValid Scores  Number of \\nNo Scores Participation \\nRate  \\\n",
       "0                       471                    46                 91.1   \n",
       "1                     2,153                    67                 97.0   \n",
       "2                     2,689                   253                 91.4   \n",
       "3                    21,156                  1672                 92.7   \n",
       "4                    33,930                  2182                 94.0   \n",
       "\n",
       "  Total Score \\nMean Score Total Score \\nStandard Deviation  \\\n",
       "0                      820                              163   \n",
       "1                      995                              188   \n",
       "2                      817                              160   \n",
       "3                      822                              152   \n",
       "4                      959                              169   \n",
       "\n",
       "  Evidence-Based \\nReading and Writing \\nMean Score  \\\n",
       "0                                               415   \n",
       "1                                               493   \n",
       "2                                               413   \n",
       "3                                               415   \n",
       "4                                               485   \n",
       "\n",
       "  Evidence-Based \\nReading and Writing \\nStandard Deviation  \\\n",
       "0                                                 82          \n",
       "1                                                 98          \n",
       "2                                                 83          \n",
       "3                                                 79          \n",
       "4                                                 91          \n",
       "\n",
       "  Mathematics \\nMean Score Mathematics \\nStandard Deviation  \n",
       "0                      405                               91  \n",
       "1                      502                              101  \n",
       "2                      404                               88  \n",
       "3                      407                               84  \n",
       "4                      475                               89  "
      ]
     },
     "execution_count": 38,
     "metadata": {},
     "output_type": "execute_result"
    }
   ],
   "source": [
    "by_race_co_scores.head()"
   ]
  },
  {
   "cell_type": "markdown",
   "metadata": {},
   "source": [
    " "
   ]
  },
  {
   "cell_type": "markdown",
   "metadata": {},
   "source": [
    "#2. Check for missing values."
   ]
  },
  {
   "cell_type": "code",
   "execution_count": 39,
   "metadata": {},
   "outputs": [
    {
     "data": {
      "text/plain": [
       "Level                                                        1\n",
       "District \\nCode                                              1\n",
       "District Name                                                1\n",
       "School \\nCode                                                1\n",
       "School Name                                                  1\n",
       "Test                                                         1\n",
       "Grade                                                        1\n",
       "Race/Ethnicity                                               1\n",
       "Number of \\nTotal Records                                    1\n",
       "Number of \\nValid Scores                                     1\n",
       "Number of \\nNo Scores                                        1\n",
       "Participation \\nRate                                         1\n",
       "Total Score \\nMean Score                                     1\n",
       "Total Score \\nStandard Deviation                             1\n",
       "Evidence-Based \\nReading and Writing \\nMean Score            1\n",
       "Evidence-Based \\nReading and Writing \\nStandard Deviation    1\n",
       "Mathematics \\nMean Score                                     1\n",
       "Mathematics \\nStandard Deviation                             1\n",
       "dtype: int64"
      ]
     },
     "execution_count": 39,
     "metadata": {},
     "output_type": "execute_result"
    }
   ],
   "source": [
    "by_race_co_scores.isnull().sum()"
   ]
  },
  {
   "cell_type": "markdown",
   "metadata": {},
   "source": [
    " "
   ]
  },
  {
   "cell_type": "markdown",
   "metadata": {},
   "source": [
    "#3. Check for any obvious issues with the observations \n",
    "(keep in mind the minimum & maximum possible values for each test/subtest)."
   ]
  },
  {
   "cell_type": "markdown",
   "metadata": {},
   "source": [
    "Issues:\n",
    "* Object data type that need to be int64/float\n",
    "* Missing values\n",
    "* \"<\" vales \n",
    "* Colums that we dont need\n",
    "* Header with \\n in name\n",
    "* Header with spaces at the end of them"
   ]
  },
  {
   "cell_type": "code",
   "execution_count": 40,
   "metadata": {},
   "outputs": [
    {
     "name": "stdout",
     "output_type": "stream",
     "text": [
      "<class 'pandas.core.frame.DataFrame'>\n",
      "RangeIndex: 8383 entries, 0 to 8382\n",
      "Data columns (total 18 columns):\n",
      " #   Column                                                   Non-Null Count  Dtype  \n",
      "---  ------                                                   --------------  -----  \n",
      " 0   Level                                                    8382 non-null   object \n",
      " 1   District \n",
      "Code                                           8382 non-null   float64\n",
      " 2   District Name                                            8382 non-null   object \n",
      " 3   School \n",
      "Code                                             8382 non-null   float64\n",
      " 4   School Name                                              8382 non-null   object \n",
      " 5   Test                                                     8382 non-null   object \n",
      " 6   Grade                                                    8382 non-null   float64\n",
      " 7   Race/Ethnicity                                           8382 non-null   object \n",
      " 8   Number of \n",
      "Total Records                                 8382 non-null   object \n",
      " 9   Number of \n",
      "Valid Scores                                  8382 non-null   object \n",
      " 10  Number of \n",
      "No Scores                                     8382 non-null   object \n",
      " 11  Participation \n",
      "Rate                                      8382 non-null   object \n",
      " 12  Total Score \n",
      "Mean Score                                  8382 non-null   object \n",
      " 13  Total Score \n",
      "Standard Deviation                          8382 non-null   object \n",
      " 14  Evidence-Based \n",
      "Reading and Writing \n",
      "Mean Score          8382 non-null   object \n",
      " 15  Evidence-Based \n",
      "Reading and Writing \n",
      "Standard Deviation  8382 non-null   object \n",
      " 16  Mathematics \n",
      "Mean Score                                  8382 non-null   object \n",
      " 17  Mathematics \n",
      "Standard Deviation                          8382 non-null   object \n",
      "dtypes: float64(3), object(15)\n",
      "memory usage: 1.2+ MB\n"
     ]
    }
   ],
   "source": [
    "by_race_co_scores.info()"
   ]
  },
  {
   "cell_type": "code",
   "execution_count": 41,
   "metadata": {},
   "outputs": [
    {
     "data": {
      "text/html": [
       "<div>\n",
       "<style scoped>\n",
       "    .dataframe tbody tr th:only-of-type {\n",
       "        vertical-align: middle;\n",
       "    }\n",
       "\n",
       "    .dataframe tbody tr th {\n",
       "        vertical-align: top;\n",
       "    }\n",
       "\n",
       "    .dataframe thead th {\n",
       "        text-align: right;\n",
       "    }\n",
       "</style>\n",
       "<table border=\"1\" class=\"dataframe\">\n",
       "  <thead>\n",
       "    <tr style=\"text-align: right;\">\n",
       "      <th></th>\n",
       "      <th>District \\nCode</th>\n",
       "      <th>School \\nCode</th>\n",
       "      <th>Grade</th>\n",
       "    </tr>\n",
       "  </thead>\n",
       "  <tbody>\n",
       "    <tr>\n",
       "      <th>count</th>\n",
       "      <td>8382.000000</td>\n",
       "      <td>8382.000000</td>\n",
       "      <td>8382.00000</td>\n",
       "    </tr>\n",
       "    <tr>\n",
       "      <th>mean</th>\n",
       "      <td>1605.004653</td>\n",
       "      <td>3286.631949</td>\n",
       "      <td>9.99821</td>\n",
       "    </tr>\n",
       "    <tr>\n",
       "      <th>std</th>\n",
       "      <td>1698.192026</td>\n",
       "      <td>3133.244458</td>\n",
       "      <td>0.81647</td>\n",
       "    </tr>\n",
       "    <tr>\n",
       "      <th>min</th>\n",
       "      <td>0.000000</td>\n",
       "      <td>0.000000</td>\n",
       "      <td>9.00000</td>\n",
       "    </tr>\n",
       "    <tr>\n",
       "      <th>25%</th>\n",
       "      <td>880.000000</td>\n",
       "      <td>0.000000</td>\n",
       "      <td>9.00000</td>\n",
       "    </tr>\n",
       "    <tr>\n",
       "      <th>50%</th>\n",
       "      <td>1080.000000</td>\n",
       "      <td>2356.000000</td>\n",
       "      <td>10.00000</td>\n",
       "    </tr>\n",
       "    <tr>\n",
       "      <th>75%</th>\n",
       "      <td>2035.000000</td>\n",
       "      <td>6146.000000</td>\n",
       "      <td>11.00000</td>\n",
       "    </tr>\n",
       "    <tr>\n",
       "      <th>max</th>\n",
       "      <td>9175.000000</td>\n",
       "      <td>9808.000000</td>\n",
       "      <td>11.00000</td>\n",
       "    </tr>\n",
       "  </tbody>\n",
       "</table>\n",
       "</div>"
      ],
      "text/plain": [
       "       District \\nCode  School \\nCode       Grade\n",
       "count      8382.000000    8382.000000  8382.00000\n",
       "mean       1605.004653    3286.631949     9.99821\n",
       "std        1698.192026    3133.244458     0.81647\n",
       "min           0.000000       0.000000     9.00000\n",
       "25%         880.000000       0.000000     9.00000\n",
       "50%        1080.000000    2356.000000    10.00000\n",
       "75%        2035.000000    6146.000000    11.00000\n",
       "max        9175.000000    9808.000000    11.00000"
      ]
     },
     "execution_count": 41,
     "metadata": {},
     "output_type": "execute_result"
    }
   ],
   "source": [
    "by_race_co_scores.describe()"
   ]
  },
  {
   "cell_type": "code",
   "execution_count": 42,
   "metadata": {},
   "outputs": [
    {
     "data": {
      "text/html": [
       "<div>\n",
       "<style scoped>\n",
       "    .dataframe tbody tr th:only-of-type {\n",
       "        vertical-align: middle;\n",
       "    }\n",
       "\n",
       "    .dataframe tbody tr th {\n",
       "        vertical-align: top;\n",
       "    }\n",
       "\n",
       "    .dataframe thead th {\n",
       "        text-align: right;\n",
       "    }\n",
       "</style>\n",
       "<table border=\"1\" class=\"dataframe\">\n",
       "  <thead>\n",
       "    <tr style=\"text-align: right;\">\n",
       "      <th></th>\n",
       "      <th>Level</th>\n",
       "      <th>District Name</th>\n",
       "      <th>School Name</th>\n",
       "      <th>Test</th>\n",
       "      <th>Race/Ethnicity</th>\n",
       "      <th>Number of \\nTotal Records</th>\n",
       "      <th>Number of \\nValid Scores</th>\n",
       "      <th>Number of \\nNo Scores</th>\n",
       "      <th>Participation \\nRate</th>\n",
       "      <th>Total Score \\nMean Score</th>\n",
       "      <th>Total Score \\nStandard Deviation</th>\n",
       "      <th>Evidence-Based \\nReading and Writing \\nMean Score</th>\n",
       "      <th>Evidence-Based \\nReading and Writing \\nStandard Deviation</th>\n",
       "      <th>Mathematics \\nMean Score</th>\n",
       "      <th>Mathematics \\nStandard Deviation</th>\n",
       "    </tr>\n",
       "  </thead>\n",
       "  <tbody>\n",
       "    <tr>\n",
       "      <th>count</th>\n",
       "      <td>8382</td>\n",
       "      <td>8382</td>\n",
       "      <td>8382</td>\n",
       "      <td>8382</td>\n",
       "      <td>8382</td>\n",
       "      <td>8382</td>\n",
       "      <td>8382</td>\n",
       "      <td>8382</td>\n",
       "      <td>8382</td>\n",
       "      <td>8382</td>\n",
       "      <td>8382</td>\n",
       "      <td>8382</td>\n",
       "      <td>8382</td>\n",
       "      <td>8382</td>\n",
       "      <td>8382</td>\n",
       "    </tr>\n",
       "    <tr>\n",
       "      <th>unique</th>\n",
       "      <td>3</td>\n",
       "      <td>186</td>\n",
       "      <td>495</td>\n",
       "      <td>2</td>\n",
       "      <td>8</td>\n",
       "      <td>479</td>\n",
       "      <td>463</td>\n",
       "      <td>126</td>\n",
       "      <td>281</td>\n",
       "      <td>492</td>\n",
       "      <td>167</td>\n",
       "      <td>271</td>\n",
       "      <td>90</td>\n",
       "      <td>280</td>\n",
       "      <td>100</td>\n",
       "    </tr>\n",
       "    <tr>\n",
       "      <th>top</th>\n",
       "      <td>SCHOOL</td>\n",
       "      <td>DENVER COUNTY 1</td>\n",
       "      <td>All Schools</td>\n",
       "      <td>PSAT</td>\n",
       "      <td>White</td>\n",
       "      <td>- -</td>\n",
       "      <td>&lt; 16</td>\n",
       "      <td>- -</td>\n",
       "      <td>- -</td>\n",
       "      <td>- -</td>\n",
       "      <td>- -</td>\n",
       "      <td>- -</td>\n",
       "      <td>- -</td>\n",
       "      <td>- -</td>\n",
       "      <td>- -</td>\n",
       "    </tr>\n",
       "    <tr>\n",
       "      <th>freq</th>\n",
       "      <td>6187</td>\n",
       "      <td>844</td>\n",
       "      <td>2195</td>\n",
       "      <td>5596</td>\n",
       "      <td>1959</td>\n",
       "      <td>5587</td>\n",
       "      <td>5587</td>\n",
       "      <td>5587</td>\n",
       "      <td>5587</td>\n",
       "      <td>5662</td>\n",
       "      <td>5662</td>\n",
       "      <td>5662</td>\n",
       "      <td>5662</td>\n",
       "      <td>5662</td>\n",
       "      <td>5662</td>\n",
       "    </tr>\n",
       "  </tbody>\n",
       "</table>\n",
       "</div>"
      ],
      "text/plain": [
       "         Level    District Name  School Name  Test Race/Ethnicity  \\\n",
       "count     8382             8382         8382  8382           8382   \n",
       "unique       3              186          495     2              8   \n",
       "top     SCHOOL  DENVER COUNTY 1  All Schools  PSAT          White   \n",
       "freq      6187              844         2195  5596           1959   \n",
       "\n",
       "       Number of \\nTotal Records  Number of \\nValid Scores   \\\n",
       "count                        8382                      8382   \n",
       "unique                        479                       463   \n",
       "top                           - -                      < 16   \n",
       "freq                         5587                      5587   \n",
       "\n",
       "       Number of \\nNo Scores Participation \\nRate Total Score \\nMean Score  \\\n",
       "count                   8382                 8382                     8382   \n",
       "unique                   126                  281                      492   \n",
       "top                      - -                  - -                      - -   \n",
       "freq                    5587                 5587                     5662   \n",
       "\n",
       "       Total Score \\nStandard Deviation  \\\n",
       "count                              8382   \n",
       "unique                              167   \n",
       "top                                 - -   \n",
       "freq                               5662   \n",
       "\n",
       "       Evidence-Based \\nReading and Writing \\nMean Score  \\\n",
       "count                                               8382   \n",
       "unique                                               271   \n",
       "top                                                  - -   \n",
       "freq                                                5662   \n",
       "\n",
       "       Evidence-Based \\nReading and Writing \\nStandard Deviation  \\\n",
       "count                                                8382          \n",
       "unique                                                 90          \n",
       "top                                                   - -          \n",
       "freq                                                 5662          \n",
       "\n",
       "       Mathematics \\nMean Score Mathematics \\nStandard Deviation  \n",
       "count                      8382                             8382  \n",
       "unique                      280                              100  \n",
       "top                         - -                              - -  \n",
       "freq                       5662                             5662  "
      ]
     },
     "execution_count": 42,
     "metadata": {},
     "output_type": "execute_result"
    }
   ],
   "source": [
    "by_race_co_scores.describe(include=np.object)"
   ]
  },
  {
   "cell_type": "markdown",
   "metadata": {},
   "source": [
    " "
   ]
  },
  {
   "cell_type": "markdown",
   "metadata": {},
   "source": [
    "#4. Fix any errors you identified in steps 2-3."
   ]
  },
  {
   "cell_type": "markdown",
   "metadata": {},
   "source": [
    "The data type and column name problems will be fixed in below questions."
   ]
  },
  {
   "cell_type": "markdown",
   "metadata": {},
   "source": [
    " "
   ]
  },
  {
   "cell_type": "markdown",
   "metadata": {},
   "source": [
    "#5. Display the data types of each feature."
   ]
  },
  {
   "cell_type": "code",
   "execution_count": 43,
   "metadata": {},
   "outputs": [
    {
     "data": {
      "text/plain": [
       "Level                                                         object\n",
       "District \\nCode                                              float64\n",
       "District Name                                                 object\n",
       "School \\nCode                                                float64\n",
       "School Name                                                   object\n",
       "Test                                                          object\n",
       "Grade                                                        float64\n",
       "Race/Ethnicity                                                object\n",
       "Number of \\nTotal Records                                     object\n",
       "Number of \\nValid Scores                                      object\n",
       "Number of \\nNo Scores                                         object\n",
       "Participation \\nRate                                          object\n",
       "Total Score \\nMean Score                                      object\n",
       "Total Score \\nStandard Deviation                              object\n",
       "Evidence-Based \\nReading and Writing \\nMean Score             object\n",
       "Evidence-Based \\nReading and Writing \\nStandard Deviation     object\n",
       "Mathematics \\nMean Score                                      object\n",
       "Mathematics \\nStandard Deviation                              object\n",
       "dtype: object"
      ]
     },
     "execution_count": 43,
     "metadata": {},
     "output_type": "execute_result"
    }
   ],
   "source": [
    "by_race_co_scores.dtypes"
   ]
  },
  {
   "cell_type": "markdown",
   "metadata": {},
   "source": [
    " "
   ]
  },
  {
   "cell_type": "markdown",
   "metadata": {},
   "source": [
    "#6. Fix any incorrect data types found in step 5.\n",
    "Fix any individual values preventing other columns from being the appropriate type.\n",
    "If your dataset has a column of percents (ex. '50%', '30.5%', etc.), use the function you wrote in Part 1 (coding challenges, number 3) to convert this to floats! Hint: use .map() or .apply()."
   ]
  },
  {
   "cell_type": "code",
   "execution_count": 44,
   "metadata": {},
   "outputs": [],
   "source": [
    "by_race_co_scores['Number of \\nTotal Records '] = by_race_co_scores['Number of \\nTotal Records '].map(object_to_float)"
   ]
  },
  {
   "cell_type": "code",
   "execution_count": 45,
   "metadata": {},
   "outputs": [],
   "source": [
    "by_race_co_scores['Number of \\nNo Scores'] = by_race_co_scores['Number of \\nNo Scores'].map(object_to_float)"
   ]
  },
  {
   "cell_type": "code",
   "execution_count": 46,
   "metadata": {},
   "outputs": [],
   "source": [
    "by_race_co_scores['Number of \\nValid Scores '] = by_race_co_scores['Number of \\nValid Scores '].map(object_to_float)"
   ]
  },
  {
   "cell_type": "code",
   "execution_count": 47,
   "metadata": {},
   "outputs": [],
   "source": [
    "by_race_co_scores['Participation \\nRate'] = by_race_co_scores['Participation \\nRate'].map(object_to_float)"
   ]
  },
  {
   "cell_type": "code",
   "execution_count": 48,
   "metadata": {},
   "outputs": [],
   "source": [
    "by_race_co_scores['Total Score \\nMean Score'] = by_race_co_scores['Total Score \\nMean Score'].map(object_to_float)"
   ]
  },
  {
   "cell_type": "code",
   "execution_count": 49,
   "metadata": {},
   "outputs": [],
   "source": [
    "by_race_co_scores['Evidence-Based \\nReading and Writing \\nMean Score'] = by_race_co_scores['Evidence-Based \\nReading and Writing \\nMean Score'].map(object_to_float)"
   ]
  },
  {
   "cell_type": "code",
   "execution_count": 50,
   "metadata": {},
   "outputs": [],
   "source": [
    "by_race_co_scores['Mathematics \\nMean Score'] = by_race_co_scores['Mathematics \\nMean Score'].map(object_to_float)"
   ]
  },
  {
   "cell_type": "markdown",
   "metadata": {},
   "source": [
    " "
   ]
  },
  {
   "cell_type": "markdown",
   "metadata": {},
   "source": [
    "#7. Rename Columns.\n",
    "Column names should be all lowercase.\n",
    "Column names should not contain spaces (underscores will suffice--this allows for using the df.column_name method to access columns in addition to df['column_name'])."
   ]
  },
  {
   "cell_type": "code",
   "execution_count": 51,
   "metadata": {},
   "outputs": [],
   "source": [
    "by_race_co_scores.columns = [col.replace('\\n', '') for col in by_race_co_scores.columns]"
   ]
  },
  {
   "cell_type": "code",
   "execution_count": 52,
   "metadata": {},
   "outputs": [],
   "source": [
    "by_race_co_scores.columns = [col.lower().replace(' ', '_') for col in by_race_co_scores.columns]"
   ]
  },
  {
   "cell_type": "code",
   "execution_count": 53,
   "metadata": {},
   "outputs": [],
   "source": [
    "by_race_co_scores.rename(columns={\n",
    "    'number_of_total_records_' : 'total_student_count',\n",
    "    'number_of_valid_scores_' : 'number_student_took',\n",
    "    'number_of_no_scores' : 'number_students_didnt_take',\n",
    "    'total_score_mean_score': 'total',\n",
    "    'evidence-based_reading_and_writing_mean_score': 'evidence_based_reading_writing',\n",
    "    'mathematics_mean_score': 'math'\n",
    "    \n",
    "}, inplace = True)"
   ]
  },
  {
   "cell_type": "markdown",
   "metadata": {},
   "source": [
    " "
   ]
  },
  {
   "cell_type": "markdown",
   "metadata": {},
   "source": [
    "#8. Drop unnecessary rows (if needed)."
   ]
  },
  {
   "cell_type": "code",
   "execution_count": 54,
   "metadata": {},
   "outputs": [],
   "source": [
    "by_race_co_scores.drop(columns = 'level', inplace=True)\n",
    "by_race_co_scores.drop(columns = 'district_code', inplace=True)\n",
    "by_race_co_scores.drop(columns = 'school_code', inplace=True)\n",
    "by_race_co_scores.drop(columns = 'school_name', inplace=True)\n",
    "by_race_co_scores.drop(columns = 'grade', inplace=True)\n",
    "by_race_co_scores.drop(columns = 'number_student_took', inplace=True)\n",
    "by_race_co_scores.drop(columns = 'number_students_didnt_take', inplace=True)\n",
    "by_race_co_scores.drop(columns = 'total_score_standard_deviation', inplace=True)\n",
    "by_race_co_scores.drop(columns = 'evidence-based_reading_and_writing_standard_deviation', inplace=True)\n",
    "by_race_co_scores.drop(columns = 'mathematics_standard_deviation', inplace=True)"
   ]
  },
  {
   "cell_type": "code",
   "execution_count": 55,
   "metadata": {},
   "outputs": [],
   "source": [
    "by_race_co_scores.drop(by_race_co_scores[by_race_co_scores['test'] == 'PSAT'].index, inplace = True) "
   ]
  },
  {
   "cell_type": "code",
   "execution_count": 56,
   "metadata": {},
   "outputs": [],
   "source": [
    "by_race_co_scores.drop(by_race_co_scores[by_race_co_scores['district_name'] == 'All Districts'].index, inplace = True) "
   ]
  },
  {
   "cell_type": "code",
   "execution_count": 57,
   "metadata": {},
   "outputs": [],
   "source": [
    "by_race_co_scores.drop(columns = 'test', inplace=True)"
   ]
  },
  {
   "cell_type": "code",
   "execution_count": 58,
   "metadata": {},
   "outputs": [],
   "source": [
    "by_race_co_scores.dropna(inplace = True)"
   ]
  },
  {
   "cell_type": "code",
   "execution_count": 59,
   "metadata": {},
   "outputs": [
    {
     "data": {
      "text/html": [
       "<div>\n",
       "<style scoped>\n",
       "    .dataframe tbody tr th:only-of-type {\n",
       "        vertical-align: middle;\n",
       "    }\n",
       "\n",
       "    .dataframe tbody tr th {\n",
       "        vertical-align: top;\n",
       "    }\n",
       "\n",
       "    .dataframe thead th {\n",
       "        text-align: right;\n",
       "    }\n",
       "</style>\n",
       "<table border=\"1\" class=\"dataframe\">\n",
       "  <thead>\n",
       "    <tr style=\"text-align: right;\">\n",
       "      <th></th>\n",
       "      <th>district_name</th>\n",
       "      <th>race/ethnicity</th>\n",
       "      <th>total_student_count</th>\n",
       "      <th>participation_rate</th>\n",
       "      <th>total</th>\n",
       "      <th>evidence_based_reading_writing</th>\n",
       "      <th>math</th>\n",
       "    </tr>\n",
       "  </thead>\n",
       "  <tbody>\n",
       "    <tr>\n",
       "      <th>40</th>\n",
       "      <td>MAPLETON 1</td>\n",
       "      <td>Hispanic</td>\n",
       "      <td>397.0</td>\n",
       "      <td>92.9</td>\n",
       "      <td>880.0</td>\n",
       "      <td>448.0</td>\n",
       "      <td>431.0</td>\n",
       "    </tr>\n",
       "    <tr>\n",
       "      <th>41</th>\n",
       "      <td>MAPLETON 1</td>\n",
       "      <td>White</td>\n",
       "      <td>254.0</td>\n",
       "      <td>74.4</td>\n",
       "      <td>969.0</td>\n",
       "      <td>503.0</td>\n",
       "      <td>466.0</td>\n",
       "    </tr>\n",
       "    <tr>\n",
       "      <th>43</th>\n",
       "      <td>MAPLETON 1</td>\n",
       "      <td>Two or More Races</td>\n",
       "      <td>47.0</td>\n",
       "      <td>76.6</td>\n",
       "      <td>974.0</td>\n",
       "      <td>506.0</td>\n",
       "      <td>468.0</td>\n",
       "    </tr>\n",
       "    <tr>\n",
       "      <th>58</th>\n",
       "      <td>ADAMS 12 FIVE STAR SCHOOLS</td>\n",
       "      <td>American Indian or Alaska Native</td>\n",
       "      <td>20.0</td>\n",
       "      <td>90.0</td>\n",
       "      <td>854.0</td>\n",
       "      <td>432.0</td>\n",
       "      <td>423.0</td>\n",
       "    </tr>\n",
       "    <tr>\n",
       "      <th>59</th>\n",
       "      <td>ADAMS 12 FIVE STAR SCHOOLS</td>\n",
       "      <td>Asian</td>\n",
       "      <td>192.0</td>\n",
       "      <td>97.4</td>\n",
       "      <td>1059.0</td>\n",
       "      <td>522.0</td>\n",
       "      <td>537.0</td>\n",
       "    </tr>\n",
       "  </tbody>\n",
       "</table>\n",
       "</div>"
      ],
      "text/plain": [
       "                 district_name                    race/ethnicity  \\\n",
       "40                  MAPLETON 1                          Hispanic   \n",
       "41                  MAPLETON 1                             White   \n",
       "43                  MAPLETON 1                 Two or More Races   \n",
       "58  ADAMS 12 FIVE STAR SCHOOLS  American Indian or Alaska Native   \n",
       "59  ADAMS 12 FIVE STAR SCHOOLS                             Asian   \n",
       "\n",
       "    total_student_count  participation_rate   total  \\\n",
       "40                397.0                92.9   880.0   \n",
       "41                254.0                74.4   969.0   \n",
       "43                 47.0                76.6   974.0   \n",
       "58                 20.0                90.0   854.0   \n",
       "59                192.0                97.4  1059.0   \n",
       "\n",
       "    evidence_based_reading_writing   math  \n",
       "40                           448.0  431.0  \n",
       "41                           503.0  466.0  \n",
       "43                           506.0  468.0  \n",
       "58                           432.0  423.0  \n",
       "59                           522.0  537.0  "
      ]
     },
     "execution_count": 59,
     "metadata": {},
     "output_type": "execute_result"
    }
   ],
   "source": [
    "by_race_co_scores.head()"
   ]
  },
  {
   "cell_type": "markdown",
   "metadata": {},
   "source": [
    " "
   ]
  },
  {
   "cell_type": "markdown",
   "metadata": {},
   "source": [
    "#9. Merge dataframes that can be merged."
   ]
  },
  {
   "cell_type": "markdown",
   "metadata": {},
   "source": [
    "none"
   ]
  },
  {
   "cell_type": "markdown",
   "metadata": {},
   "source": [
    " "
   ]
  },
  {
   "cell_type": "markdown",
   "metadata": {},
   "source": [
    "#11. Save your cleaned and merged dataframes as csv file"
   ]
  },
  {
   "cell_type": "code",
   "execution_count": 60,
   "metadata": {},
   "outputs": [],
   "source": [
    "by_race_co_scores.to_csv('cleaned_by_race_co_scores.csv', index=False)\n",
    "co_school_scores.to_csv('cleaned_co_school_scores.csv', index=False)\n",
    "by_state_scores.to_csv('cleaned_by_state_scores.csv', index=False)"
   ]
  },
  {
   "cell_type": "markdown",
   "metadata": {},
   "source": [
    "### Data Dictionary\n",
    "\n",
    "Now that we've fixed our data, and given it appropriate names, let's create a [data dictionary](http://library.ucmerced.edu/node/10249). \n",
    "\n",
    "A data dictionary provides a quick overview of features/variables/columns, alongside data types and descriptions. The more descriptive you can be, the more useful this document is.\n",
    "\n",
    "Example of a Fictional Data Dictionary Entry: \n",
    "\n",
    "|Feature|Type|Dataset|Description|\n",
    "|---|---|---|---|\n",
    "|**county_pop**|*integer*|2010 census|The population of the county (units in thousands, where 2.5 represents 2500 people).| \n",
    "|**per_poverty**|*float*|2010 census|The percent of the county over the age of 18 living below the 200% of official US poverty rate (units percent to two decimal places 98.10 means 98.1%)|\n",
    "\n",
    "[Here's a quick link to a short guide for formatting markdown in Jupyter notebooks](https://jupyter-notebook.readthedocs.io/en/stable/examples/Notebook/Working%20With%20Markdown%20Cells.html).\n",
    "\n",
    "Provided is the skeleton for formatting a markdown table, with columns headers that will help you create a data dictionary to quickly summarize your data, as well as some examples. **This would be a great thing to copy and paste into your custom README for this project.**\n",
    "\n",
    "*Note*: if you are unsure of what a feature is, check the source of the data! This can be found in the README."
   ]
  },
  {
   "cell_type": "markdown",
   "metadata": {},
   "source": [
    "**To-Do:** *Edit the table below to create your own data dictionary for the datasets you chose.*"
   ]
  },
  {
   "cell_type": "markdown",
   "metadata": {},
   "source": [
    "**Colorado SAT District and School Achievement Results** \n",
    "\n",
    "|Feature|Type|Dataset|Description|\n",
    "|---|---|---|---|\n",
    "|district_name|onject|co_school_scores|Name of school district|\n",
    "|total_student_count|float64|co_school_scores|Amount of grade 11 enrolled students|  \n",
    "|participation_rate|float64|co_school_scores|Percentage of student who took test|\n",
    "|total|float64|co_school_scores|Total SAT scores|\n",
    "|evidence_based_reading_writing|float64|co_school_scores|Evidence Based Reading and Writing section score|\n",
    "|math|float64|co_school_scores|Math section score|"
   ]
  },
  {
   "cell_type": "markdown",
   "metadata": {},
   "source": [
    "**Colorado SAT Disaggregated District and School Achievement Results By Race**  \n",
    "\n",
    "|Feature|Type|Dataset|Description|\n",
    "|---|---|---|---|\n",
    "|district_name|object|by_race_co_scores|Name of school district|\n",
    "|race/ethnicity|object|by_race_co_scores|Race/Ethnicity of student|\n",
    "|total_student_count|float64|by_race_co_scores|Amount of grade 11 enrolled students|  \n",
    "|participation_rate|float64|by_race_co_scores|Percentage of student who took test|\n",
    "|total|float64|by_race_co_scores|Total SAT scores|\n",
    "|evidence_based_reading_writing|float64|by_race_co_scores|Evidence Based Reading and Writing section score|\n",
    "|math|float64|by_race_co_scores|Math section score|"
   ]
  },
  {
   "cell_type": "markdown",
   "metadata": {},
   "source": [
    "**National SAT Disaggregated District and School Achievement Results By State**  \n",
    "\n",
    "|Feature|Type|Dataset|Description|\n",
    "|---|---|---|---|\n",
    "|state|object|by_state_scores|SAT data from specific state|\n",
    "|evidence_based_reading_writing|int64|by_state_scores|Evidence Based Reading and Writing section score|\n",
    "|math|int64|by_state_scores|Math section score\n",
    "|total|float64|by_race_co_scores|Total SAT scores|\n",
    "|participation_rate|int64|by_state_scores|Percentage of student who took test|"
   ]
  },
  {
   "cell_type": "markdown",
   "metadata": {},
   "source": [
    " "
   ]
  },
  {
   "cell_type": "markdown",
   "metadata": {},
   "source": [
    "## Exploratory Data Analysis\n",
    "\n",
    "Complete the following steps to explore your data. You are welcome to do more EDA than the steps outlined here as you feel necessary:\n",
    "1. Summary Statistics.\n",
    "2. Use a **dictionary comprehension** to apply the standard deviation function you create in part 1 to each numeric column in the dataframe.  **No loops**.\n",
    "    - Assign the output to variable `sd` as a dictionary where: \n",
    "        - Each column name is now a key \n",
    "        - That standard deviation of the column is the value \n",
    "        - *Example Output :* `{'ACT_Math': 120, 'ACT_Reading': 120, ...}`\n",
    "3. Investigate trends in the data.\n",
    "    - Using sorting and/or masking (along with the `.head()` method to avoid printing our entire dataframe), consider questions relevant to your problem statement. Some examples are provided below (but feel free to change these questions for your specific problem):\n",
    "        - Which states have the highest and lowest participation rates for the 2017, 2019, or 2019 SAT and ACT?\n",
    "        - Which states have the highest and lowest mean total/composite scores for the 2017, 2019, or 2019 SAT and ACT?\n",
    "        - Do any states with 100% participation on a given test have a rate change year-to-year?\n",
    "        - Do any states show have >50% participation on *both* tests each year?\n",
    "        - Which colleges have the highest median SAT and ACT scores for admittance?\n",
    "        - Which California school districts have the highest and lowest mean test scores?\n",
    "    - **You should comment on your findings at each step in a markdown cell below your code block**. Make sure you include at least one example of sorting your dataframe by a column, and one example of using boolean filtering (i.e., masking) to select a subset of the dataframe."
   ]
  },
  {
   "cell_type": "markdown",
   "metadata": {},
   "source": [
    "#1.Summary Statistics"
   ]
  },
  {
   "cell_type": "code",
   "execution_count": 61,
   "metadata": {},
   "outputs": [
    {
     "data": {
      "text/plain": [
       "count      51.000000\n",
       "mean     1126.098039\n",
       "std        92.494812\n",
       "min       950.000000\n",
       "25%      1055.500000\n",
       "50%      1107.000000\n",
       "75%      1212.000000\n",
       "max      1295.000000\n",
       "Name: total, dtype: float64"
      ]
     },
     "execution_count": 61,
     "metadata": {},
     "output_type": "execute_result"
    }
   ],
   "source": [
    "#National SAT Scores\n",
    "by_state_scores['total'].describe()"
   ]
  },
  {
   "cell_type": "code",
   "execution_count": 62,
   "metadata": {},
   "outputs": [
    {
     "data": {
      "image/png": "[encoded data removed]",
      "text/plain": [
       "<Figure size 432x288 with 1 Axes>"
      ]
     },
     "metadata": {
      "needs_background": "light"
     },
     "output_type": "display_data"
    }
   ],
   "source": [
    "#Histogram National SAT Scores\n",
    "by_state_scores['total'].hist(color = 'mediumseagreen');"
   ]
  },
  {
   "cell_type": "code",
   "execution_count": 63,
   "metadata": {},
   "outputs": [
    {
     "data": {
      "image/png": "[encoded data removed]",
      "text/plain": [
       "<Figure size 432x288 with 1 Axes>"
      ]
     },
     "metadata": {
      "needs_background": "light"
     },
     "output_type": "display_data"
    }
   ],
   "source": [
    "#Boxplot National SAT Scores\n",
    "sns.boxplot(by_state_scores['total'], color = 'mediumseagreen');"
   ]
  },
  {
   "cell_type": "code",
   "execution_count": 64,
   "metadata": {},
   "outputs": [
    {
     "data": {
      "text/html": [
       "<div>\n",
       "<style scoped>\n",
       "    .dataframe tbody tr th:only-of-type {\n",
       "        vertical-align: middle;\n",
       "    }\n",
       "\n",
       "    .dataframe tbody tr th {\n",
       "        vertical-align: top;\n",
       "    }\n",
       "\n",
       "    .dataframe thead th {\n",
       "        text-align: right;\n",
       "    }\n",
       "</style>\n",
       "<table border=\"1\" class=\"dataframe\">\n",
       "  <thead>\n",
       "    <tr style=\"text-align: right;\">\n",
       "      <th></th>\n",
       "      <th>total_student_count</th>\n",
       "      <th>participation_rate</th>\n",
       "      <th>total</th>\n",
       "      <th>evidence_based_reading_writing</th>\n",
       "      <th>math</th>\n",
       "    </tr>\n",
       "  </thead>\n",
       "  <tbody>\n",
       "    <tr>\n",
       "      <th>count</th>\n",
       "      <td>517.000000</td>\n",
       "      <td>517.000000</td>\n",
       "      <td>517.000000</td>\n",
       "      <td>517.000000</td>\n",
       "      <td>517.000000</td>\n",
       "    </tr>\n",
       "    <tr>\n",
       "      <th>mean</th>\n",
       "      <td>238.582205</td>\n",
       "      <td>92.681431</td>\n",
       "      <td>966.750484</td>\n",
       "      <td>490.357834</td>\n",
       "      <td>476.371373</td>\n",
       "    </tr>\n",
       "    <tr>\n",
       "      <th>std</th>\n",
       "      <td>539.826414</td>\n",
       "      <td>10.747810</td>\n",
       "      <td>103.692438</td>\n",
       "      <td>50.338367</td>\n",
       "      <td>54.603658</td>\n",
       "    </tr>\n",
       "    <tr>\n",
       "      <th>min</th>\n",
       "      <td>16.000000</td>\n",
       "      <td>18.300000</td>\n",
       "      <td>725.000000</td>\n",
       "      <td>372.000000</td>\n",
       "      <td>348.000000</td>\n",
       "    </tr>\n",
       "    <tr>\n",
       "      <th>25%</th>\n",
       "      <td>38.000000</td>\n",
       "      <td>92.000000</td>\n",
       "      <td>898.000000</td>\n",
       "      <td>457.000000</td>\n",
       "      <td>441.000000</td>\n",
       "    </tr>\n",
       "    <tr>\n",
       "      <th>50%</th>\n",
       "      <td>86.000000</td>\n",
       "      <td>96.000000</td>\n",
       "      <td>966.000000</td>\n",
       "      <td>488.000000</td>\n",
       "      <td>476.000000</td>\n",
       "    </tr>\n",
       "    <tr>\n",
       "      <th>75%</th>\n",
       "      <td>261.000000</td>\n",
       "      <td>98.200000</td>\n",
       "      <td>1032.000000</td>\n",
       "      <td>525.000000</td>\n",
       "      <td>509.000000</td>\n",
       "    </tr>\n",
       "    <tr>\n",
       "      <th>max</th>\n",
       "      <td>5901.000000</td>\n",
       "      <td>100.000000</td>\n",
       "      <td>1315.000000</td>\n",
       "      <td>650.000000</td>\n",
       "      <td>664.000000</td>\n",
       "    </tr>\n",
       "  </tbody>\n",
       "</table>\n",
       "</div>"
      ],
      "text/plain": [
       "       total_student_count  participation_rate        total  \\\n",
       "count           517.000000          517.000000   517.000000   \n",
       "mean            238.582205           92.681431   966.750484   \n",
       "std             539.826414           10.747810   103.692438   \n",
       "min              16.000000           18.300000   725.000000   \n",
       "25%              38.000000           92.000000   898.000000   \n",
       "50%              86.000000           96.000000   966.000000   \n",
       "75%             261.000000           98.200000  1032.000000   \n",
       "max            5901.000000          100.000000  1315.000000   \n",
       "\n",
       "       evidence_based_reading_writing        math  \n",
       "count                      517.000000  517.000000  \n",
       "mean                       490.357834  476.371373  \n",
       "std                         50.338367   54.603658  \n",
       "min                        372.000000  348.000000  \n",
       "25%                        457.000000  441.000000  \n",
       "50%                        488.000000  476.000000  \n",
       "75%                        525.000000  509.000000  \n",
       "max                        650.000000  664.000000  "
      ]
     },
     "execution_count": 64,
     "metadata": {},
     "output_type": "execute_result"
    }
   ],
   "source": [
    "#Colorado Sat Scores\n",
    "co_school_scores.describe()"
   ]
  },
  {
   "cell_type": "code",
   "execution_count": 65,
   "metadata": {},
   "outputs": [
    {
     "data": {
      "image/png": "[encoded data removed]",
      "text/plain": [
       "<Figure size 432x288 with 1 Axes>"
      ]
     },
     "metadata": {
      "needs_background": "light"
     },
     "output_type": "display_data"
    }
   ],
   "source": [
    "#Colorado Sat Scores\n",
    "co_school_scores['total'].hist(color = 'steelblue');"
   ]
  },
  {
   "cell_type": "code",
   "execution_count": 66,
   "metadata": {},
   "outputs": [
    {
     "data": {
      "image/png": "[encoded data removed]",
      "text/plain": [
       "<Figure size 432x288 with 1 Axes>"
      ]
     },
     "metadata": {
      "needs_background": "light"
     },
     "output_type": "display_data"
    }
   ],
   "source": [
    "#Boxplot Colorado SAT Scores\n",
    "sns.boxplot(co_school_scores['total'], color = 'steelblue');"
   ]
  },
  {
   "cell_type": "code",
   "execution_count": 67,
   "metadata": {},
   "outputs": [
    {
     "data": {
      "text/html": [
       "<div>\n",
       "<style scoped>\n",
       "    .dataframe tbody tr th:only-of-type {\n",
       "        vertical-align: middle;\n",
       "    }\n",
       "\n",
       "    .dataframe tbody tr th {\n",
       "        vertical-align: top;\n",
       "    }\n",
       "\n",
       "    .dataframe thead th {\n",
       "        text-align: right;\n",
       "    }\n",
       "</style>\n",
       "<table border=\"1\" class=\"dataframe\">\n",
       "  <thead>\n",
       "    <tr style=\"text-align: right;\">\n",
       "      <th></th>\n",
       "      <th>district_name</th>\n",
       "      <th>total_student_count</th>\n",
       "      <th>participation_rate</th>\n",
       "      <th>total</th>\n",
       "      <th>evidence_based_reading_writing</th>\n",
       "      <th>math</th>\n",
       "    </tr>\n",
       "  </thead>\n",
       "  <tbody>\n",
       "    <tr>\n",
       "      <th>5</th>\n",
       "      <td>MAPLETON 1</td>\n",
       "      <td>727.0</td>\n",
       "      <td>85.0</td>\n",
       "      <td>915.0</td>\n",
       "      <td>470.0</td>\n",
       "      <td>445.0</td>\n",
       "    </tr>\n",
       "    <tr>\n",
       "      <th>8</th>\n",
       "      <td>ADAMS 12 FIVE STAR SCHOOLS</td>\n",
       "      <td>2975.0</td>\n",
       "      <td>91.9</td>\n",
       "      <td>978.0</td>\n",
       "      <td>491.0</td>\n",
       "      <td>487.0</td>\n",
       "    </tr>\n",
       "    <tr>\n",
       "      <th>11</th>\n",
       "      <td>ADAMS COUNTY 14</td>\n",
       "      <td>429.0</td>\n",
       "      <td>92.3</td>\n",
       "      <td>833.0</td>\n",
       "      <td>427.0</td>\n",
       "      <td>406.0</td>\n",
       "    </tr>\n",
       "    <tr>\n",
       "      <th>14</th>\n",
       "      <td>SCHOOL DISTRICT 27J</td>\n",
       "      <td>1138.0</td>\n",
       "      <td>93.6</td>\n",
       "      <td>936.0</td>\n",
       "      <td>473.0</td>\n",
       "      <td>463.0</td>\n",
       "    </tr>\n",
       "    <tr>\n",
       "      <th>17</th>\n",
       "      <td>BENNETT 29J</td>\n",
       "      <td>99.0</td>\n",
       "      <td>97.0</td>\n",
       "      <td>942.0</td>\n",
       "      <td>483.0</td>\n",
       "      <td>459.0</td>\n",
       "    </tr>\n",
       "  </tbody>\n",
       "</table>\n",
       "</div>"
      ],
      "text/plain": [
       "                 district_name  total_student_count  participation_rate  \\\n",
       "5                   MAPLETON 1                727.0                85.0   \n",
       "8   ADAMS 12 FIVE STAR SCHOOLS               2975.0                91.9   \n",
       "11             ADAMS COUNTY 14                429.0                92.3   \n",
       "14         SCHOOL DISTRICT 27J               1138.0                93.6   \n",
       "17                 BENNETT 29J                 99.0                97.0   \n",
       "\n",
       "    total  evidence_based_reading_writing   math  \n",
       "5   915.0                           470.0  445.0  \n",
       "8   978.0                           491.0  487.0  \n",
       "11  833.0                           427.0  406.0  \n",
       "14  936.0                           473.0  463.0  \n",
       "17  942.0                           483.0  459.0  "
      ]
     },
     "execution_count": 67,
     "metadata": {},
     "output_type": "execute_result"
    }
   ],
   "source": [
    "co_school_scores.head()"
   ]
  },
  {
   "cell_type": "code",
   "execution_count": 68,
   "metadata": {},
   "outputs": [
    {
     "data": {
      "text/plain": [
       "White                               384\n",
       "Hispanic                            317\n",
       "Two or More Races                    67\n",
       "Asian                                61\n",
       "Black                                61\n",
       "American Indian or Alaska Native      8\n",
       "Hawaiian/Pacific Islander             1\n",
       "Name: race/ethnicity, dtype: int64"
      ]
     },
     "execution_count": 68,
     "metadata": {},
     "output_type": "execute_result"
    }
   ],
   "source": [
    "#Number of 11th grade students in Colorado by race\n",
    "by_race_co_scores['race/ethnicity'].value_counts()"
   ]
  },
  {
   "cell_type": "code",
   "execution_count": 69,
   "metadata": {
    "scrolled": true
   },
   "outputs": [
    {
     "data": {
      "image/png": "[encoded data removed]",
      "text/plain": [
       "<Figure size 432x288 with 1 Axes>"
      ]
     },
     "metadata": {
      "needs_background": "light"
     },
     "output_type": "display_data"
    }
   ],
   "source": [
    "#Number of 11th grade students in Colorado by race\n",
    "by_race_co_scores['race/ethnicity'].value_counts()[:5].plot.barh();"
   ]
  },
  {
   "cell_type": "code",
   "execution_count": 70,
   "metadata": {},
   "outputs": [],
   "source": [
    "#creating series per race\n",
    "native_ser = by_race_co_scores['race/ethnicity'] == 'American Indian or Alaska Native' #series\n",
    "asian_ser = by_race_co_scores['race/ethnicity'] == 'Asian'\n",
    "black_ser = by_race_co_scores['race/ethnicity'] == 'Black'\n",
    "hispanic_ser = by_race_co_scores['race/ethnicity'] == 'Hispanic'\n",
    "white_ser = by_race_co_scores['race/ethnicity'] == 'White'\n",
    "\n",
    "#creating df per race\n",
    "native_df = by_race_co_scores[native_ser]\n",
    "asian_df = by_race_co_scores[asian_ser]\n",
    "black_df = by_race_co_scores[black_ser]\n",
    "hispanic_df = by_race_co_scores[hispanic_ser]\n",
    "white_df = by_race_co_scores[white_ser]"
   ]
  },
  {
   "cell_type": "code",
   "execution_count": 71,
   "metadata": {},
   "outputs": [
    {
     "data": {
      "text/html": [
       "<div>\n",
       "<style scoped>\n",
       "    .dataframe tbody tr th:only-of-type {\n",
       "        vertical-align: middle;\n",
       "    }\n",
       "\n",
       "    .dataframe tbody tr th {\n",
       "        vertical-align: top;\n",
       "    }\n",
       "\n",
       "    .dataframe thead th {\n",
       "        text-align: right;\n",
       "    }\n",
       "</style>\n",
       "<table border=\"1\" class=\"dataframe\">\n",
       "  <thead>\n",
       "    <tr style=\"text-align: right;\">\n",
       "      <th></th>\n",
       "      <th>total_student_count</th>\n",
       "      <th>participation_rate</th>\n",
       "      <th>total</th>\n",
       "      <th>evidence_based_reading_writing</th>\n",
       "      <th>math</th>\n",
       "    </tr>\n",
       "  </thead>\n",
       "  <tbody>\n",
       "    <tr>\n",
       "      <th>count</th>\n",
       "      <td>8.00000</td>\n",
       "      <td>8.000000</td>\n",
       "      <td>8.000000</td>\n",
       "      <td>8.000000</td>\n",
       "      <td>8.000000</td>\n",
       "    </tr>\n",
       "    <tr>\n",
       "      <th>mean</th>\n",
       "      <td>28.00000</td>\n",
       "      <td>88.212500</td>\n",
       "      <td>852.375000</td>\n",
       "      <td>437.375000</td>\n",
       "      <td>415.250000</td>\n",
       "    </tr>\n",
       "    <tr>\n",
       "      <th>std</th>\n",
       "      <td>11.74734</td>\n",
       "      <td>7.313088</td>\n",
       "      <td>47.773087</td>\n",
       "      <td>24.616705</td>\n",
       "      <td>24.995714</td>\n",
       "    </tr>\n",
       "    <tr>\n",
       "      <th>min</th>\n",
       "      <td>18.00000</td>\n",
       "      <td>77.800000</td>\n",
       "      <td>804.000000</td>\n",
       "      <td>413.000000</td>\n",
       "      <td>390.000000</td>\n",
       "    </tr>\n",
       "    <tr>\n",
       "      <th>25%</th>\n",
       "      <td>20.00000</td>\n",
       "      <td>82.700000</td>\n",
       "      <td>824.500000</td>\n",
       "      <td>424.000000</td>\n",
       "      <td>400.500000</td>\n",
       "    </tr>\n",
       "    <tr>\n",
       "      <th>50%</th>\n",
       "      <td>22.50000</td>\n",
       "      <td>89.450000</td>\n",
       "      <td>842.000000</td>\n",
       "      <td>429.500000</td>\n",
       "      <td>410.000000</td>\n",
       "    </tr>\n",
       "    <tr>\n",
       "      <th>75%</th>\n",
       "      <td>33.75000</td>\n",
       "      <td>95.000000</td>\n",
       "      <td>865.500000</td>\n",
       "      <td>443.500000</td>\n",
       "      <td>423.500000</td>\n",
       "    </tr>\n",
       "    <tr>\n",
       "      <th>max</th>\n",
       "      <td>52.00000</td>\n",
       "      <td>96.200000</td>\n",
       "      <td>951.000000</td>\n",
       "      <td>483.000000</td>\n",
       "      <td>468.000000</td>\n",
       "    </tr>\n",
       "  </tbody>\n",
       "</table>\n",
       "</div>"
      ],
      "text/plain": [
       "       total_student_count  participation_rate       total  \\\n",
       "count              8.00000            8.000000    8.000000   \n",
       "mean              28.00000           88.212500  852.375000   \n",
       "std               11.74734            7.313088   47.773087   \n",
       "min               18.00000           77.800000  804.000000   \n",
       "25%               20.00000           82.700000  824.500000   \n",
       "50%               22.50000           89.450000  842.000000   \n",
       "75%               33.75000           95.000000  865.500000   \n",
       "max               52.00000           96.200000  951.000000   \n",
       "\n",
       "       evidence_based_reading_writing        math  \n",
       "count                        8.000000    8.000000  \n",
       "mean                       437.375000  415.250000  \n",
       "std                         24.616705   24.995714  \n",
       "min                        413.000000  390.000000  \n",
       "25%                        424.000000  400.500000  \n",
       "50%                        429.500000  410.000000  \n",
       "75%                        443.500000  423.500000  \n",
       "max                        483.000000  468.000000  "
      ]
     },
     "execution_count": 71,
     "metadata": {},
     "output_type": "execute_result"
    }
   ],
   "source": [
    "native_df.describe()"
   ]
  },
  {
   "cell_type": "code",
   "execution_count": 72,
   "metadata": {},
   "outputs": [
    {
     "data": {
      "text/html": [
       "<div>\n",
       "<style scoped>\n",
       "    .dataframe tbody tr th:only-of-type {\n",
       "        vertical-align: middle;\n",
       "    }\n",
       "\n",
       "    .dataframe tbody tr th {\n",
       "        vertical-align: top;\n",
       "    }\n",
       "\n",
       "    .dataframe thead th {\n",
       "        text-align: right;\n",
       "    }\n",
       "</style>\n",
       "<table border=\"1\" class=\"dataframe\">\n",
       "  <thead>\n",
       "    <tr style=\"text-align: right;\">\n",
       "      <th></th>\n",
       "      <th>total_student_count</th>\n",
       "      <th>participation_rate</th>\n",
       "      <th>total</th>\n",
       "      <th>evidence_based_reading_writing</th>\n",
       "      <th>math</th>\n",
       "    </tr>\n",
       "  </thead>\n",
       "  <tbody>\n",
       "    <tr>\n",
       "      <th>count</th>\n",
       "      <td>61.000000</td>\n",
       "      <td>61.000000</td>\n",
       "      <td>61.000000</td>\n",
       "      <td>61.000000</td>\n",
       "      <td>61.000000</td>\n",
       "    </tr>\n",
       "    <tr>\n",
       "      <th>mean</th>\n",
       "      <td>56.934426</td>\n",
       "      <td>96.565574</td>\n",
       "      <td>1103.131148</td>\n",
       "      <td>541.180328</td>\n",
       "      <td>562.016393</td>\n",
       "    </tr>\n",
       "    <tr>\n",
       "      <th>std</th>\n",
       "      <td>67.388641</td>\n",
       "      <td>4.270359</td>\n",
       "      <td>121.004335</td>\n",
       "      <td>58.756988</td>\n",
       "      <td>63.652570</td>\n",
       "    </tr>\n",
       "    <tr>\n",
       "      <th>min</th>\n",
       "      <td>16.000000</td>\n",
       "      <td>79.700000</td>\n",
       "      <td>748.000000</td>\n",
       "      <td>376.000000</td>\n",
       "      <td>372.000000</td>\n",
       "    </tr>\n",
       "    <tr>\n",
       "      <th>25%</th>\n",
       "      <td>23.000000</td>\n",
       "      <td>95.500000</td>\n",
       "      <td>1030.000000</td>\n",
       "      <td>501.000000</td>\n",
       "      <td>521.000000</td>\n",
       "    </tr>\n",
       "    <tr>\n",
       "      <th>50%</th>\n",
       "      <td>30.000000</td>\n",
       "      <td>97.300000</td>\n",
       "      <td>1121.000000</td>\n",
       "      <td>551.000000</td>\n",
       "      <td>570.000000</td>\n",
       "    </tr>\n",
       "    <tr>\n",
       "      <th>75%</th>\n",
       "      <td>59.000000</td>\n",
       "      <td>100.000000</td>\n",
       "      <td>1180.000000</td>\n",
       "      <td>580.000000</td>\n",
       "      <td>599.000000</td>\n",
       "    </tr>\n",
       "    <tr>\n",
       "      <th>max</th>\n",
       "      <td>389.000000</td>\n",
       "      <td>100.000000</td>\n",
       "      <td>1347.000000</td>\n",
       "      <td>658.000000</td>\n",
       "      <td>689.000000</td>\n",
       "    </tr>\n",
       "  </tbody>\n",
       "</table>\n",
       "</div>"
      ],
      "text/plain": [
       "       total_student_count  participation_rate        total  \\\n",
       "count            61.000000           61.000000    61.000000   \n",
       "mean             56.934426           96.565574  1103.131148   \n",
       "std              67.388641            4.270359   121.004335   \n",
       "min              16.000000           79.700000   748.000000   \n",
       "25%              23.000000           95.500000  1030.000000   \n",
       "50%              30.000000           97.300000  1121.000000   \n",
       "75%              59.000000          100.000000  1180.000000   \n",
       "max             389.000000          100.000000  1347.000000   \n",
       "\n",
       "       evidence_based_reading_writing        math  \n",
       "count                       61.000000   61.000000  \n",
       "mean                       541.180328  562.016393  \n",
       "std                         58.756988   63.652570  \n",
       "min                        376.000000  372.000000  \n",
       "25%                        501.000000  521.000000  \n",
       "50%                        551.000000  570.000000  \n",
       "75%                        580.000000  599.000000  \n",
       "max                        658.000000  689.000000  "
      ]
     },
     "execution_count": 72,
     "metadata": {},
     "output_type": "execute_result"
    }
   ],
   "source": [
    "asian_df.describe()"
   ]
  },
  {
   "cell_type": "code",
   "execution_count": 73,
   "metadata": {},
   "outputs": [
    {
     "data": {
      "text/html": [
       "<div>\n",
       "<style scoped>\n",
       "    .dataframe tbody tr th:only-of-type {\n",
       "        vertical-align: middle;\n",
       "    }\n",
       "\n",
       "    .dataframe tbody tr th {\n",
       "        vertical-align: top;\n",
       "    }\n",
       "\n",
       "    .dataframe thead th {\n",
       "        text-align: right;\n",
       "    }\n",
       "</style>\n",
       "<table border=\"1\" class=\"dataframe\">\n",
       "  <thead>\n",
       "    <tr style=\"text-align: right;\">\n",
       "      <th></th>\n",
       "      <th>total_student_count</th>\n",
       "      <th>participation_rate</th>\n",
       "      <th>total</th>\n",
       "      <th>evidence_based_reading_writing</th>\n",
       "      <th>math</th>\n",
       "    </tr>\n",
       "  </thead>\n",
       "  <tbody>\n",
       "    <tr>\n",
       "      <th>count</th>\n",
       "      <td>61.000000</td>\n",
       "      <td>61.000000</td>\n",
       "      <td>61.000000</td>\n",
       "      <td>61.000000</td>\n",
       "      <td>61.000000</td>\n",
       "    </tr>\n",
       "    <tr>\n",
       "      <th>mean</th>\n",
       "      <td>74.245902</td>\n",
       "      <td>93.245902</td>\n",
       "      <td>902.442623</td>\n",
       "      <td>458.524590</td>\n",
       "      <td>443.983607</td>\n",
       "    </tr>\n",
       "    <tr>\n",
       "      <th>std</th>\n",
       "      <td>117.698861</td>\n",
       "      <td>7.218762</td>\n",
       "      <td>67.866173</td>\n",
       "      <td>31.679966</td>\n",
       "      <td>37.832302</td>\n",
       "    </tr>\n",
       "    <tr>\n",
       "      <th>min</th>\n",
       "      <td>17.000000</td>\n",
       "      <td>60.700000</td>\n",
       "      <td>727.000000</td>\n",
       "      <td>369.000000</td>\n",
       "      <td>352.000000</td>\n",
       "    </tr>\n",
       "    <tr>\n",
       "      <th>25%</th>\n",
       "      <td>23.000000</td>\n",
       "      <td>91.600000</td>\n",
       "      <td>860.000000</td>\n",
       "      <td>436.000000</td>\n",
       "      <td>425.000000</td>\n",
       "    </tr>\n",
       "    <tr>\n",
       "      <th>50%</th>\n",
       "      <td>40.000000</td>\n",
       "      <td>94.700000</td>\n",
       "      <td>915.000000</td>\n",
       "      <td>464.000000</td>\n",
       "      <td>448.000000</td>\n",
       "    </tr>\n",
       "    <tr>\n",
       "      <th>75%</th>\n",
       "      <td>69.000000</td>\n",
       "      <td>97.600000</td>\n",
       "      <td>943.000000</td>\n",
       "      <td>482.000000</td>\n",
       "      <td>468.000000</td>\n",
       "    </tr>\n",
       "    <tr>\n",
       "      <th>max</th>\n",
       "      <td>717.000000</td>\n",
       "      <td>100.000000</td>\n",
       "      <td>1055.000000</td>\n",
       "      <td>510.000000</td>\n",
       "      <td>545.000000</td>\n",
       "    </tr>\n",
       "  </tbody>\n",
       "</table>\n",
       "</div>"
      ],
      "text/plain": [
       "       total_student_count  participation_rate        total  \\\n",
       "count            61.000000           61.000000    61.000000   \n",
       "mean             74.245902           93.245902   902.442623   \n",
       "std             117.698861            7.218762    67.866173   \n",
       "min              17.000000           60.700000   727.000000   \n",
       "25%              23.000000           91.600000   860.000000   \n",
       "50%              40.000000           94.700000   915.000000   \n",
       "75%              69.000000           97.600000   943.000000   \n",
       "max             717.000000          100.000000  1055.000000   \n",
       "\n",
       "       evidence_based_reading_writing        math  \n",
       "count                       61.000000   61.000000  \n",
       "mean                       458.524590  443.983607  \n",
       "std                         31.679966   37.832302  \n",
       "min                        369.000000  352.000000  \n",
       "25%                        436.000000  425.000000  \n",
       "50%                        464.000000  448.000000  \n",
       "75%                        482.000000  468.000000  \n",
       "max                        510.000000  545.000000  "
      ]
     },
     "execution_count": 73,
     "metadata": {},
     "output_type": "execute_result"
    }
   ],
   "source": [
    "black_df.describe()"
   ]
  },
  {
   "cell_type": "code",
   "execution_count": 74,
   "metadata": {},
   "outputs": [
    {
     "data": {
      "text/html": [
       "<div>\n",
       "<style scoped>\n",
       "    .dataframe tbody tr th:only-of-type {\n",
       "        vertical-align: middle;\n",
       "    }\n",
       "\n",
       "    .dataframe tbody tr th {\n",
       "        vertical-align: top;\n",
       "    }\n",
       "\n",
       "    .dataframe thead th {\n",
       "        text-align: right;\n",
       "    }\n",
       "</style>\n",
       "<table border=\"1\" class=\"dataframe\">\n",
       "  <thead>\n",
       "    <tr style=\"text-align: right;\">\n",
       "      <th></th>\n",
       "      <th>total_student_count</th>\n",
       "      <th>participation_rate</th>\n",
       "      <th>total</th>\n",
       "      <th>evidence_based_reading_writing</th>\n",
       "      <th>math</th>\n",
       "    </tr>\n",
       "  </thead>\n",
       "  <tbody>\n",
       "    <tr>\n",
       "      <th>count</th>\n",
       "      <td>384.000000</td>\n",
       "      <td>384.000000</td>\n",
       "      <td>384.000000</td>\n",
       "      <td>384.000000</td>\n",
       "      <td>384.000000</td>\n",
       "    </tr>\n",
       "    <tr>\n",
       "      <th>mean</th>\n",
       "      <td>170.239583</td>\n",
       "      <td>93.326563</td>\n",
       "      <td>1020.919271</td>\n",
       "      <td>518.343750</td>\n",
       "      <td>502.598958</td>\n",
       "    </tr>\n",
       "    <tr>\n",
       "      <th>std</th>\n",
       "      <td>355.476174</td>\n",
       "      <td>9.121282</td>\n",
       "      <td>96.238017</td>\n",
       "      <td>45.943109</td>\n",
       "      <td>51.763023</td>\n",
       "    </tr>\n",
       "    <tr>\n",
       "      <th>min</th>\n",
       "      <td>16.000000</td>\n",
       "      <td>32.800000</td>\n",
       "      <td>775.000000</td>\n",
       "      <td>395.000000</td>\n",
       "      <td>373.000000</td>\n",
       "    </tr>\n",
       "    <tr>\n",
       "      <th>25%</th>\n",
       "      <td>30.000000</td>\n",
       "      <td>92.275000</td>\n",
       "      <td>961.750000</td>\n",
       "      <td>491.000000</td>\n",
       "      <td>470.750000</td>\n",
       "    </tr>\n",
       "    <tr>\n",
       "      <th>50%</th>\n",
       "      <td>66.500000</td>\n",
       "      <td>95.700000</td>\n",
       "      <td>1017.000000</td>\n",
       "      <td>517.500000</td>\n",
       "      <td>501.000000</td>\n",
       "    </tr>\n",
       "    <tr>\n",
       "      <th>75%</th>\n",
       "      <td>183.500000</td>\n",
       "      <td>98.400000</td>\n",
       "      <td>1080.000000</td>\n",
       "      <td>549.250000</td>\n",
       "      <td>531.500000</td>\n",
       "    </tr>\n",
       "    <tr>\n",
       "      <th>max</th>\n",
       "      <td>3916.000000</td>\n",
       "      <td>100.000000</td>\n",
       "      <td>1319.000000</td>\n",
       "      <td>656.000000</td>\n",
       "      <td>665.000000</td>\n",
       "    </tr>\n",
       "  </tbody>\n",
       "</table>\n",
       "</div>"
      ],
      "text/plain": [
       "       total_student_count  participation_rate        total  \\\n",
       "count           384.000000          384.000000   384.000000   \n",
       "mean            170.239583           93.326563  1020.919271   \n",
       "std             355.476174            9.121282    96.238017   \n",
       "min              16.000000           32.800000   775.000000   \n",
       "25%              30.000000           92.275000   961.750000   \n",
       "50%              66.500000           95.700000  1017.000000   \n",
       "75%             183.500000           98.400000  1080.000000   \n",
       "max            3916.000000          100.000000  1319.000000   \n",
       "\n",
       "       evidence_based_reading_writing        math  \n",
       "count                      384.000000  384.000000  \n",
       "mean                       518.343750  502.598958  \n",
       "std                         45.943109   51.763023  \n",
       "min                        395.000000  373.000000  \n",
       "25%                        491.000000  470.750000  \n",
       "50%                        517.500000  501.000000  \n",
       "75%                        549.250000  531.500000  \n",
       "max                        656.000000  665.000000  "
      ]
     },
     "execution_count": 74,
     "metadata": {},
     "output_type": "execute_result"
    }
   ],
   "source": [
    "white_df.describe()"
   ]
  },
  {
   "cell_type": "code",
   "execution_count": 75,
   "metadata": {},
   "outputs": [
    {
     "data": {
      "text/html": [
       "<div>\n",
       "<style scoped>\n",
       "    .dataframe tbody tr th:only-of-type {\n",
       "        vertical-align: middle;\n",
       "    }\n",
       "\n",
       "    .dataframe tbody tr th {\n",
       "        vertical-align: top;\n",
       "    }\n",
       "\n",
       "    .dataframe thead th {\n",
       "        text-align: right;\n",
       "    }\n",
       "</style>\n",
       "<table border=\"1\" class=\"dataframe\">\n",
       "  <thead>\n",
       "    <tr style=\"text-align: right;\">\n",
       "      <th></th>\n",
       "      <th>total_student_count</th>\n",
       "      <th>participation_rate</th>\n",
       "      <th>total</th>\n",
       "      <th>evidence_based_reading_writing</th>\n",
       "      <th>math</th>\n",
       "    </tr>\n",
       "  </thead>\n",
       "  <tbody>\n",
       "    <tr>\n",
       "      <th>count</th>\n",
       "      <td>317.000000</td>\n",
       "      <td>317.000000</td>\n",
       "      <td>317.000000</td>\n",
       "      <td>317.000000</td>\n",
       "      <td>317.000000</td>\n",
       "    </tr>\n",
       "    <tr>\n",
       "      <th>mean</th>\n",
       "      <td>122.208202</td>\n",
       "      <td>92.831861</td>\n",
       "      <td>908.716088</td>\n",
       "      <td>459.192429</td>\n",
       "      <td>449.570978</td>\n",
       "    </tr>\n",
       "    <tr>\n",
       "      <th>std</th>\n",
       "      <td>236.481756</td>\n",
       "      <td>9.612780</td>\n",
       "      <td>80.266022</td>\n",
       "      <td>38.561034</td>\n",
       "      <td>43.015071</td>\n",
       "    </tr>\n",
       "    <tr>\n",
       "      <th>min</th>\n",
       "      <td>16.000000</td>\n",
       "      <td>33.300000</td>\n",
       "      <td>729.000000</td>\n",
       "      <td>374.000000</td>\n",
       "      <td>353.000000</td>\n",
       "    </tr>\n",
       "    <tr>\n",
       "      <th>25%</th>\n",
       "      <td>35.000000</td>\n",
       "      <td>91.300000</td>\n",
       "      <td>861.000000</td>\n",
       "      <td>436.000000</td>\n",
       "      <td>425.000000</td>\n",
       "    </tr>\n",
       "    <tr>\n",
       "      <th>50%</th>\n",
       "      <td>60.000000</td>\n",
       "      <td>95.700000</td>\n",
       "      <td>901.000000</td>\n",
       "      <td>457.000000</td>\n",
       "      <td>445.000000</td>\n",
       "    </tr>\n",
       "    <tr>\n",
       "      <th>75%</th>\n",
       "      <td>111.000000</td>\n",
       "      <td>98.600000</td>\n",
       "      <td>952.000000</td>\n",
       "      <td>480.000000</td>\n",
       "      <td>472.000000</td>\n",
       "    </tr>\n",
       "    <tr>\n",
       "      <th>max</th>\n",
       "      <td>2966.000000</td>\n",
       "      <td>100.000000</td>\n",
       "      <td>1175.000000</td>\n",
       "      <td>592.000000</td>\n",
       "      <td>595.000000</td>\n",
       "    </tr>\n",
       "  </tbody>\n",
       "</table>\n",
       "</div>"
      ],
      "text/plain": [
       "       total_student_count  participation_rate        total  \\\n",
       "count           317.000000          317.000000   317.000000   \n",
       "mean            122.208202           92.831861   908.716088   \n",
       "std             236.481756            9.612780    80.266022   \n",
       "min              16.000000           33.300000   729.000000   \n",
       "25%              35.000000           91.300000   861.000000   \n",
       "50%              60.000000           95.700000   901.000000   \n",
       "75%             111.000000           98.600000   952.000000   \n",
       "max            2966.000000          100.000000  1175.000000   \n",
       "\n",
       "       evidence_based_reading_writing        math  \n",
       "count                      317.000000  317.000000  \n",
       "mean                       459.192429  449.570978  \n",
       "std                         38.561034   43.015071  \n",
       "min                        374.000000  353.000000  \n",
       "25%                        436.000000  425.000000  \n",
       "50%                        457.000000  445.000000  \n",
       "75%                        480.000000  472.000000  \n",
       "max                        592.000000  595.000000  "
      ]
     },
     "execution_count": 75,
     "metadata": {},
     "output_type": "execute_result"
    }
   ],
   "source": [
    "hispanic_df.describe()"
   ]
  },
  {
   "cell_type": "markdown",
   "metadata": {},
   "source": [
    " "
   ]
  },
  {
   "cell_type": "markdown",
   "metadata": {},
   "source": [
    "3. Investigate trends in the data.\n",
    "    - Using sorting and/or masking (along with the `.head()` method to avoid printing our entire dataframe), consider questions relevant to your problem statement. Some examples are provided below (but feel free to change these questions for your specific problem):"
   ]
  },
  {
   "cell_type": "code",
   "execution_count": 76,
   "metadata": {},
   "outputs": [
    {
     "name": "stderr",
     "output_type": "stream",
     "text": [
      "/Users/taracelesta/opt/anaconda3/lib/python3.7/site-packages/ipykernel_launcher.py:1: FutureWarning: Indexing with multiple keys (implicitly converted to a tuple of keys) will be deprecated, use a list instead.\n",
      "  \"\"\"Entry point for launching an IPython kernel.\n",
      "/Users/taracelesta/opt/anaconda3/lib/python3.7/site-packages/ipykernel_launcher.py:2: FutureWarning: Indexing with multiple keys (implicitly converted to a tuple of keys) will be deprecated, use a list instead.\n",
      "  \n"
     ]
    },
    {
     "data": {
      "text/html": [
       "<div>\n",
       "<style scoped>\n",
       "    .dataframe tbody tr th:only-of-type {\n",
       "        vertical-align: middle;\n",
       "    }\n",
       "\n",
       "    .dataframe tbody tr th {\n",
       "        vertical-align: top;\n",
       "    }\n",
       "\n",
       "    .dataframe thead th {\n",
       "        text-align: right;\n",
       "    }\n",
       "</style>\n",
       "<table border=\"1\" class=\"dataframe\">\n",
       "  <thead>\n",
       "    <tr style=\"text-align: right;\">\n",
       "      <th></th>\n",
       "      <th>total</th>\n",
       "      <th>math</th>\n",
       "      <th>evidence_based_reading_writing</th>\n",
       "    </tr>\n",
       "    <tr>\n",
       "      <th>race/ethnicity</th>\n",
       "      <th></th>\n",
       "      <th></th>\n",
       "      <th></th>\n",
       "    </tr>\n",
       "  </thead>\n",
       "  <tbody>\n",
       "    <tr>\n",
       "      <th>American Indian or Alaska Native</th>\n",
       "      <td>852.375000</td>\n",
       "      <td>415.250000</td>\n",
       "      <td>437.375000</td>\n",
       "    </tr>\n",
       "    <tr>\n",
       "      <th>Asian</th>\n",
       "      <td>1103.131148</td>\n",
       "      <td>562.016393</td>\n",
       "      <td>541.180328</td>\n",
       "    </tr>\n",
       "    <tr>\n",
       "      <th>Black</th>\n",
       "      <td>902.442623</td>\n",
       "      <td>443.983607</td>\n",
       "      <td>458.524590</td>\n",
       "    </tr>\n",
       "    <tr>\n",
       "      <th>Hawaiian/Pacific Islander</th>\n",
       "      <td>907.000000</td>\n",
       "      <td>441.000000</td>\n",
       "      <td>466.000000</td>\n",
       "    </tr>\n",
       "    <tr>\n",
       "      <th>Hispanic</th>\n",
       "      <td>908.716088</td>\n",
       "      <td>449.570978</td>\n",
       "      <td>459.192429</td>\n",
       "    </tr>\n",
       "    <tr>\n",
       "      <th>Two or More Races</th>\n",
       "      <td>1036.955224</td>\n",
       "      <td>512.746269</td>\n",
       "      <td>524.223881</td>\n",
       "    </tr>\n",
       "    <tr>\n",
       "      <th>White</th>\n",
       "      <td>1020.919271</td>\n",
       "      <td>502.598958</td>\n",
       "      <td>518.343750</td>\n",
       "    </tr>\n",
       "  </tbody>\n",
       "</table>\n",
       "</div>"
      ],
      "text/plain": [
       "                                        total        math  \\\n",
       "race/ethnicity                                              \n",
       "American Indian or Alaska Native   852.375000  415.250000   \n",
       "Asian                             1103.131148  562.016393   \n",
       "Black                              902.442623  443.983607   \n",
       "Hawaiian/Pacific Islander          907.000000  441.000000   \n",
       "Hispanic                           908.716088  449.570978   \n",
       "Two or More Races                 1036.955224  512.746269   \n",
       "White                             1020.919271  502.598958   \n",
       "\n",
       "                                  evidence_based_reading_writing  \n",
       "race/ethnicity                                                    \n",
       "American Indian or Alaska Native                      437.375000  \n",
       "Asian                                                 541.180328  \n",
       "Black                                                 458.524590  \n",
       "Hawaiian/Pacific Islander                             466.000000  \n",
       "Hispanic                                              459.192429  \n",
       "Two or More Races                                     524.223881  \n",
       "White                                                 518.343750  "
      ]
     },
     "execution_count": 76,
     "metadata": {},
     "output_type": "execute_result"
    }
   ],
   "source": [
    "by_race_co_scores.groupby('race/ethnicity')['total','math','evidence_based_reading_writing'].agg([np.mean,np.max])\n",
    "by_race_co_scores.groupby('race/ethnicity')['total','math','evidence_based_reading_writing'].mean()\n",
    "\n",
    "#help from Kai Zhao"
   ]
  },
  {
   "cell_type": "markdown",
   "metadata": {},
   "source": [
    "- Which races have the highest and lowest mean total scores for SAT?"
   ]
  },
  {
   "cell_type": "markdown",
   "metadata": {},
   "source": [
    "Highest mean = Asian 1103.131148\n",
    "Lowest mean = American Indian 852.375000"
   ]
  },
  {
   "cell_type": "markdown",
   "metadata": {},
   "source": [
    "- Which races have the highest and lowest mean math scores for SAT?"
   ]
  },
  {
   "cell_type": "markdown",
   "metadata": {},
   "source": [
    "Highest mean =  Asian 562.016393\n",
    "Lowest mean = American Indian 415.250000"
   ]
  },
  {
   "cell_type": "markdown",
   "metadata": {},
   "source": [
    "- Which races have the highest and lowest mean reading/writing scores for SAT?"
   ]
  },
  {
   "cell_type": "markdown",
   "metadata": {},
   "source": [
    "Highest mean = Asian 541.180328\n",
    "Lowest mean = American Indian 437.375000"
   ]
  },
  {
   "cell_type": "markdown",
   "metadata": {},
   "source": [
    "- Which races have the highest and lowest participation SAT rates?"
   ]
  },
  {
   "cell_type": "markdown",
   "metadata": {},
   "source": [
    "Highest mean = Asian 96.565574\n",
    "Lowest mean = American Indian 88.212500"
   ]
  },
  {
   "cell_type": "markdown",
   "metadata": {},
   "source": [
    "- Which Colorado school districts have the highest and lowest mean test scores?"
   ]
  },
  {
   "cell_type": "markdown",
   "metadata": {},
   "source": [
    "Highest: POUDRE R-1 : Total = 1315\n",
    "Lowest: COLORADO SPRINGS 11 : Total = 725"
   ]
  },
  {
   "cell_type": "code",
   "execution_count": 77,
   "metadata": {},
   "outputs": [
    {
     "data": {
      "text/html": [
       "<div>\n",
       "<style scoped>\n",
       "    .dataframe tbody tr th:only-of-type {\n",
       "        vertical-align: middle;\n",
       "    }\n",
       "\n",
       "    .dataframe tbody tr th {\n",
       "        vertical-align: top;\n",
       "    }\n",
       "\n",
       "    .dataframe thead th {\n",
       "        text-align: right;\n",
       "    }\n",
       "</style>\n",
       "<table border=\"1\" class=\"dataframe\">\n",
       "  <thead>\n",
       "    <tr style=\"text-align: right;\">\n",
       "      <th></th>\n",
       "      <th>district_name</th>\n",
       "      <th>total_student_count</th>\n",
       "      <th>participation_rate</th>\n",
       "      <th>total</th>\n",
       "      <th>evidence_based_reading_writing</th>\n",
       "      <th>math</th>\n",
       "    </tr>\n",
       "  </thead>\n",
       "  <tbody>\n",
       "    <tr>\n",
       "      <th>1225</th>\n",
       "      <td>COLORADO SPRINGS 11</td>\n",
       "      <td>52.0</td>\n",
       "      <td>30.8</td>\n",
       "      <td>725.0</td>\n",
       "      <td>378.0</td>\n",
       "      <td>348.0</td>\n",
       "    </tr>\n",
       "    <tr>\n",
       "      <th>893</th>\n",
       "      <td>DELTA COUNTY 50(J)</td>\n",
       "      <td>28.0</td>\n",
       "      <td>71.4</td>\n",
       "      <td>727.0</td>\n",
       "      <td>372.0</td>\n",
       "      <td>356.0</td>\n",
       "    </tr>\n",
       "    <tr>\n",
       "      <th>1984</th>\n",
       "      <td>CHARTER SCHOOL INSTITUTE</td>\n",
       "      <td>69.0</td>\n",
       "      <td>81.2</td>\n",
       "      <td>736.0</td>\n",
       "      <td>379.0</td>\n",
       "      <td>357.0</td>\n",
       "    </tr>\n",
       "    <tr>\n",
       "      <th>668</th>\n",
       "      <td>SHERIDAN 2</td>\n",
       "      <td>24.0</td>\n",
       "      <td>95.8</td>\n",
       "      <td>747.0</td>\n",
       "      <td>383.0</td>\n",
       "      <td>363.0</td>\n",
       "    </tr>\n",
       "    <tr>\n",
       "      <th>1987</th>\n",
       "      <td>CHARTER SCHOOL INSTITUTE</td>\n",
       "      <td>32.0</td>\n",
       "      <td>71.9</td>\n",
       "      <td>748.0</td>\n",
       "      <td>386.0</td>\n",
       "      <td>362.0</td>\n",
       "    </tr>\n",
       "    <tr>\n",
       "      <th>...</th>\n",
       "      <td>...</td>\n",
       "      <td>...</td>\n",
       "      <td>...</td>\n",
       "      <td>...</td>\n",
       "      <td>...</td>\n",
       "      <td>...</td>\n",
       "    </tr>\n",
       "    <tr>\n",
       "      <th>1993</th>\n",
       "      <td>CHARTER SCHOOL INSTITUTE</td>\n",
       "      <td>46.0</td>\n",
       "      <td>100.0</td>\n",
       "      <td>1228.0</td>\n",
       "      <td>617.0</td>\n",
       "      <td>610.0</td>\n",
       "    </tr>\n",
       "    <tr>\n",
       "      <th>839</th>\n",
       "      <td>BOULDER VALLEY RE 2</td>\n",
       "      <td>139.0</td>\n",
       "      <td>98.6</td>\n",
       "      <td>1230.0</td>\n",
       "      <td>621.0</td>\n",
       "      <td>610.0</td>\n",
       "    </tr>\n",
       "    <tr>\n",
       "      <th>1517</th>\n",
       "      <td>POUDRE R-1</td>\n",
       "      <td>19.0</td>\n",
       "      <td>100.0</td>\n",
       "      <td>1238.0</td>\n",
       "      <td>636.0</td>\n",
       "      <td>602.0</td>\n",
       "    </tr>\n",
       "    <tr>\n",
       "      <th>1414</th>\n",
       "      <td>JEFFERSON COUNTY R-1</td>\n",
       "      <td>142.0</td>\n",
       "      <td>97.2</td>\n",
       "      <td>1272.0</td>\n",
       "      <td>613.0</td>\n",
       "      <td>659.0</td>\n",
       "    </tr>\n",
       "    <tr>\n",
       "      <th>1531</th>\n",
       "      <td>POUDRE R-1</td>\n",
       "      <td>78.0</td>\n",
       "      <td>98.7</td>\n",
       "      <td>1315.0</td>\n",
       "      <td>650.0</td>\n",
       "      <td>664.0</td>\n",
       "    </tr>\n",
       "  </tbody>\n",
       "</table>\n",
       "<p>517 rows × 6 columns</p>\n",
       "</div>"
      ],
      "text/plain": [
       "                 district_name  total_student_count  participation_rate  \\\n",
       "1225       COLORADO SPRINGS 11                 52.0                30.8   \n",
       "893         DELTA COUNTY 50(J)                 28.0                71.4   \n",
       "1984  CHARTER SCHOOL INSTITUTE                 69.0                81.2   \n",
       "668                 SHERIDAN 2                 24.0                95.8   \n",
       "1987  CHARTER SCHOOL INSTITUTE                 32.0                71.9   \n",
       "...                        ...                  ...                 ...   \n",
       "1993  CHARTER SCHOOL INSTITUTE                 46.0               100.0   \n",
       "839        BOULDER VALLEY RE 2                139.0                98.6   \n",
       "1517                POUDRE R-1                 19.0               100.0   \n",
       "1414      JEFFERSON COUNTY R-1                142.0                97.2   \n",
       "1531                POUDRE R-1                 78.0                98.7   \n",
       "\n",
       "       total  evidence_based_reading_writing   math  \n",
       "1225   725.0                           378.0  348.0  \n",
       "893    727.0                           372.0  356.0  \n",
       "1984   736.0                           379.0  357.0  \n",
       "668    747.0                           383.0  363.0  \n",
       "1987   748.0                           386.0  362.0  \n",
       "...      ...                             ...    ...  \n",
       "1993  1228.0                           617.0  610.0  \n",
       "839   1230.0                           621.0  610.0  \n",
       "1517  1238.0                           636.0  602.0  \n",
       "1414  1272.0                           613.0  659.0  \n",
       "1531  1315.0                           650.0  664.0  \n",
       "\n",
       "[517 rows x 6 columns]"
      ]
     },
     "execution_count": 77,
     "metadata": {},
     "output_type": "execute_result"
    }
   ],
   "source": [
    "co_school_scores.sort_values('total')"
   ]
  },
  {
   "cell_type": "markdown",
   "metadata": {},
   "source": [
    "- What are the racial demographics of these schools?"
   ]
  },
  {
   "cell_type": "code",
   "execution_count": 78,
   "metadata": {},
   "outputs": [],
   "source": [
    "poudre = by_race_co_scores['district_name'] == 'POUDRE R-1'\n",
    "cosprings = by_race_co_scores['district_name'] == 'COLORADO SPRINGS 11'\n",
    "\n",
    "poudre_df = by_race_co_scores[poudre]\n",
    "cosprings_df = by_race_co_scores[cosprings]"
   ]
  },
  {
   "cell_type": "code",
   "execution_count": 79,
   "metadata": {},
   "outputs": [
    {
     "data": {
      "text/html": [
       "<div>\n",
       "<style scoped>\n",
       "    .dataframe tbody tr th:only-of-type {\n",
       "        vertical-align: middle;\n",
       "    }\n",
       "\n",
       "    .dataframe tbody tr th {\n",
       "        vertical-align: top;\n",
       "    }\n",
       "\n",
       "    .dataframe thead th {\n",
       "        text-align: right;\n",
       "    }\n",
       "</style>\n",
       "<table border=\"1\" class=\"dataframe\">\n",
       "  <thead>\n",
       "    <tr style=\"text-align: right;\">\n",
       "      <th></th>\n",
       "      <th>district_name</th>\n",
       "      <th>race/ethnicity</th>\n",
       "      <th>total_student_count</th>\n",
       "      <th>participation_rate</th>\n",
       "      <th>total</th>\n",
       "      <th>evidence_based_reading_writing</th>\n",
       "      <th>math</th>\n",
       "    </tr>\n",
       "  </thead>\n",
       "  <tbody>\n",
       "    <tr>\n",
       "      <th>1194</th>\n",
       "      <td>POUDRE R-1</td>\n",
       "      <td>White</td>\n",
       "      <td>1457.0</td>\n",
       "      <td>92.6</td>\n",
       "      <td>1110.0</td>\n",
       "      <td>558.0</td>\n",
       "      <td>552.0</td>\n",
       "    </tr>\n",
       "    <tr>\n",
       "      <th>6590</th>\n",
       "      <td>POUDRE R-1</td>\n",
       "      <td>White</td>\n",
       "      <td>370.0</td>\n",
       "      <td>94.1</td>\n",
       "      <td>1152.0</td>\n",
       "      <td>573.0</td>\n",
       "      <td>580.0</td>\n",
       "    </tr>\n",
       "    <tr>\n",
       "      <th>6684</th>\n",
       "      <td>POUDRE R-1</td>\n",
       "      <td>White</td>\n",
       "      <td>339.0</td>\n",
       "      <td>95.0</td>\n",
       "      <td>1091.0</td>\n",
       "      <td>550.0</td>\n",
       "      <td>541.0</td>\n",
       "    </tr>\n",
       "    <tr>\n",
       "      <th>1193</th>\n",
       "      <td>POUDRE R-1</td>\n",
       "      <td>Hispanic</td>\n",
       "      <td>330.0</td>\n",
       "      <td>88.8</td>\n",
       "      <td>944.0</td>\n",
       "      <td>474.0</td>\n",
       "      <td>469.0</td>\n",
       "    </tr>\n",
       "    <tr>\n",
       "      <th>6572</th>\n",
       "      <td>POUDRE R-1</td>\n",
       "      <td>White</td>\n",
       "      <td>282.0</td>\n",
       "      <td>90.4</td>\n",
       "      <td>1126.0</td>\n",
       "      <td>568.0</td>\n",
       "      <td>558.0</td>\n",
       "    </tr>\n",
       "  </tbody>\n",
       "</table>\n",
       "</div>"
      ],
      "text/plain": [
       "     district_name race/ethnicity  total_student_count  participation_rate  \\\n",
       "1194    POUDRE R-1          White               1457.0                92.6   \n",
       "6590    POUDRE R-1          White                370.0                94.1   \n",
       "6684    POUDRE R-1          White                339.0                95.0   \n",
       "1193    POUDRE R-1       Hispanic                330.0                88.8   \n",
       "6572    POUDRE R-1          White                282.0                90.4   \n",
       "\n",
       "       total  evidence_based_reading_writing   math  \n",
       "1194  1110.0                           558.0  552.0  \n",
       "6590  1152.0                           573.0  580.0  \n",
       "6684  1091.0                           550.0  541.0  \n",
       "1193   944.0                           474.0  469.0  \n",
       "6572  1126.0                           568.0  558.0  "
      ]
     },
     "execution_count": 79,
     "metadata": {},
     "output_type": "execute_result"
    }
   ],
   "source": [
    "poudre_df.sort_values('total_student_count',ascending = False)[:5]"
   ]
  },
  {
   "cell_type": "code",
   "execution_count": 80,
   "metadata": {},
   "outputs": [
    {
     "data": {
      "text/html": [
       "<div>\n",
       "<style scoped>\n",
       "    .dataframe tbody tr th:only-of-type {\n",
       "        vertical-align: middle;\n",
       "    }\n",
       "\n",
       "    .dataframe tbody tr th {\n",
       "        vertical-align: top;\n",
       "    }\n",
       "\n",
       "    .dataframe thead th {\n",
       "        text-align: right;\n",
       "    }\n",
       "</style>\n",
       "<table border=\"1\" class=\"dataframe\">\n",
       "  <thead>\n",
       "    <tr style=\"text-align: right;\">\n",
       "      <th></th>\n",
       "      <th>district_name</th>\n",
       "      <th>race/ethnicity</th>\n",
       "      <th>total_student_count</th>\n",
       "      <th>participation_rate</th>\n",
       "      <th>total</th>\n",
       "      <th>evidence_based_reading_writing</th>\n",
       "      <th>math</th>\n",
       "    </tr>\n",
       "  </thead>\n",
       "  <tbody>\n",
       "    <tr>\n",
       "      <th>739</th>\n",
       "      <td>COLORADO SPRINGS 11</td>\n",
       "      <td>White</td>\n",
       "      <td>837.0</td>\n",
       "      <td>92.7</td>\n",
       "      <td>991.0</td>\n",
       "      <td>504.0</td>\n",
       "      <td>487.0</td>\n",
       "    </tr>\n",
       "    <tr>\n",
       "      <th>738</th>\n",
       "      <td>COLORADO SPRINGS 11</td>\n",
       "      <td>Hispanic</td>\n",
       "      <td>591.0</td>\n",
       "      <td>89.5</td>\n",
       "      <td>898.0</td>\n",
       "      <td>455.0</td>\n",
       "      <td>442.0</td>\n",
       "    </tr>\n",
       "    <tr>\n",
       "      <th>5202</th>\n",
       "      <td>COLORADO SPRINGS 11</td>\n",
       "      <td>White</td>\n",
       "      <td>255.0</td>\n",
       "      <td>95.7</td>\n",
       "      <td>1011.0</td>\n",
       "      <td>508.0</td>\n",
       "      <td>503.0</td>\n",
       "    </tr>\n",
       "    <tr>\n",
       "      <th>5168</th>\n",
       "      <td>COLORADO SPRINGS 11</td>\n",
       "      <td>White</td>\n",
       "      <td>191.0</td>\n",
       "      <td>95.3</td>\n",
       "      <td>1040.0</td>\n",
       "      <td>528.0</td>\n",
       "      <td>511.0</td>\n",
       "    </tr>\n",
       "    <tr>\n",
       "      <th>5265</th>\n",
       "      <td>COLORADO SPRINGS 11</td>\n",
       "      <td>Hispanic</td>\n",
       "      <td>148.0</td>\n",
       "      <td>92.6</td>\n",
       "      <td>831.0</td>\n",
       "      <td>421.0</td>\n",
       "      <td>410.0</td>\n",
       "    </tr>\n",
       "  </tbody>\n",
       "</table>\n",
       "</div>"
      ],
      "text/plain": [
       "            district_name race/ethnicity  total_student_count  \\\n",
       "739   COLORADO SPRINGS 11          White                837.0   \n",
       "738   COLORADO SPRINGS 11       Hispanic                591.0   \n",
       "5202  COLORADO SPRINGS 11          White                255.0   \n",
       "5168  COLORADO SPRINGS 11          White                191.0   \n",
       "5265  COLORADO SPRINGS 11       Hispanic                148.0   \n",
       "\n",
       "      participation_rate   total  evidence_based_reading_writing   math  \n",
       "739                 92.7   991.0                           504.0  487.0  \n",
       "738                 89.5   898.0                           455.0  442.0  \n",
       "5202                95.7  1011.0                           508.0  503.0  \n",
       "5168                95.3  1040.0                           528.0  511.0  \n",
       "5265                92.6   831.0                           421.0  410.0  "
      ]
     },
     "execution_count": 80,
     "metadata": {},
     "output_type": "execute_result"
    }
   ],
   "source": [
    "cosprings_df.sort_values('total_student_count',ascending = False)[:5]"
   ]
  },
  {
   "cell_type": "markdown",
   "metadata": {},
   "source": [
    " "
   ]
  },
  {
   "cell_type": "markdown",
   "metadata": {},
   "source": [
    "2. Use a **dictionary comprehension** to apply the standard deviation function you create in part 1 to each numeric column in the dataframe.  **No loops**.\n",
    "    - Assign the output to variable `sd` as a dictionary where: \n",
    "        - Each column name is now a key \n",
    "        - That standard deviation of the column is the value \n",
    "        - *Example Output :* `{'ACT_Math': 120, 'ACT_Reading': 120, ...}`"
   ]
  },
  {
   "cell_type": "code",
   "execution_count": 81,
   "metadata": {},
   "outputs": [
    {
     "data": {
      "text/plain": [
       "{'total_student_count': 539.8264143844963,\n",
       " 'participation_rate': 10.747810462147916,\n",
       " 'total': 103.69243814963987,\n",
       " 'evidence_based_reading_writing': 50.33836672251203,\n",
       " 'math': 54.60365820164291}"
      ]
     },
     "execution_count": 81,
     "metadata": {},
     "output_type": "execute_result"
    }
   ],
   "source": [
    "sd_co_school_scores = {col.name:stdev(col) for col in [co_school_scores[i] for i in co_school_scores.columns if (co_school_scores[i].dtype=='float64') or (co_school_scores[i].dtype=='int64')]}\n",
    "sd_co_school_scores"
   ]
  },
  {
   "cell_type": "code",
   "execution_count": 82,
   "metadata": {},
   "outputs": [
    {
     "data": {
      "text/plain": [
       "{'total_student_count': 277.2753176756669,\n",
       " 'participation_rate': 8.761536841348226,\n",
       " 'total': 112.05570272907796,\n",
       " 'evidence_based_reading_writing': 53.759362968029464,\n",
       " 'math': 59.749409089592405}"
      ]
     },
     "execution_count": 82,
     "metadata": {},
     "output_type": "execute_result"
    }
   ],
   "source": [
    "sd_by_race = {col.name:stdev(col) for col in [by_race_co_scores[i] for i in by_race_co_scores.columns if (by_race_co_scores[i].dtype=='float64') or (by_race_co_scores[i].dtype=='int64')]}\n",
    "sd_by_race"
   ]
  },
  {
   "cell_type": "code",
   "execution_count": 83,
   "metadata": {},
   "outputs": [
    {
     "data": {
      "text/plain": [
       "{'participation_rate': 0.35276632270013036,\n",
       " 'evidence_based_reading_writing': 45.66690138768932,\n",
       " 'math': 47.12139516560329,\n",
       " 'total': 92.49481172519046}"
      ]
     },
     "execution_count": 83,
     "metadata": {},
     "output_type": "execute_result"
    }
   ],
   "source": [
    "sd_by_state_scores = {col.name:stdev(col) for col in [by_state_scores[i] for i in by_state_scores.columns if (by_state_scores[i].dtype=='float64') or (by_state_scores[i].dtype=='int64')]}\n",
    "sd_by_state_scores\n",
    "\n",
    "#code from: https://stackoverflow.com/questions/55048445/dictionary-comprehension-to-apply-a-function-to-dataframe-columns"
   ]
  },
  {
   "cell_type": "markdown",
   "metadata": {},
   "source": [
    "## Findings"
   ]
  },
  {
   "cell_type": "markdown",
   "metadata": {},
   "source": [
    "SAT attendance rates by races were very similar. The majority of races and student population (black, white, hispanic, 2 or more races) fell within a max of only .82% from each other. The largest percentage diference were between Asian and Natice American students, with Native American students attending 9.4% less than Asian students.\n",
    "\n",
    "The largest 11th grade student populations in Colorado are by far white and hispanic. White students totaled 33,958 and hispanic students totaled 20,454.\n",
    "\n",
    "However hispanic students score on average 112.2 points less on their SATs than their white peers.\n",
    "\n",
    "Native American students score on average 250.75 points less than their Asian peers, which is the largest difference in SAT scores seen in Colorado.\n",
    "\n",
    "Black students score on average 50 points better than Native American students.\n",
    "\n",
    "The lowest scoring students in Colorado are Native American(852), Black(902), and Hispanic(909).\n",
    "The highest scoring students in Colorado are White(1021), Asian(1103), and students who are 2 or more races(1037)."
   ]
  },
  {
   "cell_type": "markdown",
   "metadata": {},
   "source": [
    " "
   ]
  },
  {
   "cell_type": "markdown",
   "metadata": {},
   "source": [
    "## Visualize the Data\n",
    "\n",
    "There's not a magic bullet recommendation for the right number of plots to understand a given dataset, but visualizing your data is *always* a good idea. Not only does it allow you to quickly convey your findings (even if you have a non-technical audience), it will often reveal trends in your data that escaped you when you were looking only at numbers. It is important to not only create visualizations, but to **interpret your visualizations** as well.\n",
    "\n",
    "**Every plot should**:\n",
    "- Have a title\n",
    "- Have axis labels\n",
    "- Have appropriate tick labels\n",
    "- Text is legible in a plot\n",
    "- Plots demonstrate meaningful and valid relationships\n",
    "- Have an interpretation to aid understanding\n",
    "\n",
    "Here is an example of what your plots should look like following the above guidelines. Note that while the content of this example is unrelated, the principles of visualization hold:\n",
    "\n",
    "![](https://snag.gy/hCBR1U.jpg)\n",
    "*Interpretation: The above image shows that as we increase our spending on advertising, our sales numbers also tend to increase. There is a positive correlation between advertising spending and sales.*\n",
    "\n",
    "---\n",
    "\n",
    "Here are some prompts to get you started with visualizations. Feel free to add additional visualizations as you see fit:\n",
    "1. Use Seaborn's heatmap with pandas `.corr()` to visualize correlations between all numeric features.\n",
    "    - Heatmaps are generally not appropriate for presentations, and should often be excluded from reports as they can be visually overwhelming. **However**, they can be extremely useful in identify relationships of potential interest (as well as identifying potential collinearity before modeling).\n",
    "    - Please take time to format your output, adding a title. Look through some of the additional arguments and options. (Axis labels aren't really necessary, as long as the title is informative).\n",
    "2. Visualize distributions using histograms. If you have a lot, consider writing a custom function and use subplots.\n",
    "    - *OPTIONAL*: Summarize the underlying distributions of your features (in words & statistics)\n",
    "         - Be thorough in your verbal description of these distributions.\n",
    "         - Be sure to back up these summaries with statistics.\n",
    "         - We generally assume that data we sample from a population will be normally distributed. Do we observe this trend? Explain your answers for each distribution and how you think this will affect estimates made from these data.\n",
    "3. Plot and interpret boxplots. \n",
    "    - Boxplots demonstrate central tendency and spread in variables. In a certain sense, these are somewhat redundant with histograms, but you may be better able to identify clear outliers or differences in IQR, etc.\n",
    "    - Multiple values can be plotted to a single boxplot as long as they are of the same relative scale (meaning they have similar min/max values).\n",
    "    - Each boxplot should:\n",
    "        - Only include variables of a similar scale\n",
    "        - Have clear labels for each variable\n",
    "        - Have appropriate titles and labels\n",
    "4. Plot and interpret scatter plots to view relationships between features. Feel free to write a custom function, and subplot if you'd like. Functions save both time and space.\n",
    "    - Your plots should have:\n",
    "        - Two clearly labeled axes\n",
    "        - A proper title\n",
    "        - Colors and symbols that are clear and unmistakable\n",
    "5. Additional plots of your choosing.\n",
    "    - Are there any additional trends or relationships you haven't explored? Was there something interesting you saw that you'd like to dive further into? It's likely that there are a few more plots you might want to generate to support your narrative and recommendations that you are building toward. **As always, make sure you're interpreting your plots as you go**."
   ]
  },
  {
   "cell_type": "code",
   "execution_count": 84,
   "metadata": {},
   "outputs": [
    {
     "data": {
      "image/png": "[encoded data removed]",
      "text/plain": [
       "<Figure size 1152x648 with 2 Axes>"
      ]
     },
     "metadata": {
      "needs_background": "light"
     },
     "output_type": "display_data"
    }
   ],
   "source": [
    "#Doesnt show anything helpful for me. \n",
    "plt.figure(figsize = (16,9))\n",
    "\n",
    "corr = by_race_co_scores.corr()\n",
    "\n",
    "mask = np.zeros_like(corr)\n",
    "mask[np.triu_indices_from(mask)] = True\n",
    "\n",
    "sns.heatmap(corr, mask = mask, square = True, cmap = 'mako', annot = True);"
   ]
  },
  {
   "cell_type": "code",
   "execution_count": 85,
   "metadata": {},
   "outputs": [
    {
     "data": {
      "image/png": "[encoded data removed]",
      "text/plain": [
       "<Figure size 1152x1728 with 5 Axes>"
      ]
     },
     "metadata": {
      "needs_background": "light"
     },
     "output_type": "display_data"
    }
   ],
   "source": [
    "#How do I spread each histogram away from the other more\n",
    "plt.figure(figsize = (16,24))\n",
    "\n",
    "ax1 = plt.subplot(5,1,1)\n",
    "ax1.hist(white_df['total'], color = 'steelblue')\n",
    "ax1.set_title('Mean SAT Scores of White Students')\n",
    "\n",
    "ax2 = plt.subplot(5, 1, 2, sharex=ax1)\n",
    "ax2.hist(black_df['total'], color = 'lightblue')\n",
    "ax2.set_title('Mean SAT Scores of Black Students')\n",
    "\n",
    "ax3 = plt.subplot(5, 1, 3, sharex=ax2)\n",
    "ax3.hist(hispanic_df['total'], color = 'darkslategrey')\n",
    "ax3.set_title('Mean SAT Scores of Hispanic Students')\n",
    "\n",
    "ax4 = plt.subplot(5, 1, 4, sharex=ax3)\n",
    "ax4.hist(asian_df['total'], color = 'slategrey')\n",
    "ax4.set_title('Mean SAT Scores of Asian Students')\n",
    "\n",
    "ax5 = plt.subplot(5, 1, 5, sharex=ax4)\n",
    "ax5.hist(native_df['total'], color = 'lightsteelblue')\n",
    "ax5.set_title('Mean SAT Scores of Native American Students')\n",
    "\n",
    "plt.tight_layout(h_pad = 5.0); # adds more space"
   ]
  },
  {
   "cell_type": "code",
   "execution_count": 86,
   "metadata": {},
   "outputs": [],
   "source": [
    "race_mean = by_race_co_scores.groupby('race/ethnicity')[['total']].mean().sort_values(by='total')"
   ]
  },
  {
   "cell_type": "code",
   "execution_count": 87,
   "metadata": {},
   "outputs": [
    {
     "data": {
      "image/png": "[encoded data removed]",
      "text/plain": [
       "<Figure size 864x432 with 1 Axes>"
      ]
     },
     "metadata": {
      "needs_background": "light"
     },
     "output_type": "display_data"
    }
   ],
   "source": [
    "plt.figure(figsize = (12,6))\n",
    "\n",
    "plt.barh(y=race_mean.index, width = race_mean['total'], \n",
    "\n",
    "    color = ['steelblue','lightblue', 'darkslategrey','slategrey','lightsteelblue','darkslategrey',]) \n",
    "\n",
    "plt.title('SAT Mean Score by Race', fontsize = 15) \n",
    "plt.xlabel('SAT Score')\n",
    "plt.xticks([200,400,600, 800, 1000, 1200]); "
   ]
  },
  {
   "cell_type": "markdown",
   "metadata": {},
   "source": [
    "## Conclusions and Recommendations"
   ]
  },
  {
   "cell_type": "markdown",
   "metadata": {},
   "source": [
    "Based on your exploration of the data, what are you key takeaways and recommendations? Make sure to answer your question of interest or address your problem statement here."
   ]
  },
  {
   "cell_type": "markdown",
   "metadata": {},
   "source": [
    "The SAT's racial achievement gap is a reflection of the racial inequities in our society as a whole. Reconciling this gap will lead to equalizing educational opportunities and is one way to dissimilate inequality. \n",
    "\n",
    "Now that we know SAT scores hold a racial bias, we must hypothesize the reasons behind this.\n",
    "\n",
    "Once we discover the “why’s” behind this disparity, we can create appropriate programs and allocate funding properly to help solve this problem."
   ]
  },
  {
   "cell_type": "markdown",
   "metadata": {},
   "source": [
    "## Possible Items to Further Investigate:"
   ]
  },
  {
   "cell_type": "markdown",
   "metadata": {},
   "source": [
    "* What makes a student test better?\n",
    "    - Take the SAT test more than once get better scores?\n",
    "    - What test Prep are these students using?\n",
    "    - How are these items available to students across races?\n",
    "* Do wealthier students get higher SAT scores? \n",
    "    - Is this because of  tutoring costs?\n",
    "    - Is this because of testing costs?\n",
    "* Do wealthier school districts get better Scores?\n",
    "    - Gifted and Talented programs avalible\n",
    "    - A/P courses avalible\n",
    "    - Test prep classes available\n",
    "* Drop out, suspension, unaddressed emotional/behavioral disorders?\n",
    "* Who writes the SAT tests? Are the questions biases towards more affluent students?"
   ]
  }
 ],
 "metadata": {
  "anaconda-cloud": {},
  "kernelspec": {
   "display_name": "Python 3",
   "language": "python",
   "name": "python3"
  },
  "language_info": {
   "codemirror_mode": {
    "name": "ipython",
    "version": 3
   },
   "file_extension": ".py",
   "mimetype": "text/x-python",
   "name": "python",
   "nbconvert_exporter": "python",
   "pygments_lexer": "ipython3",
   "version": "3.8.3"
  }
 },
 "nbformat": 4,
 "nbformat_minor": 4
}
